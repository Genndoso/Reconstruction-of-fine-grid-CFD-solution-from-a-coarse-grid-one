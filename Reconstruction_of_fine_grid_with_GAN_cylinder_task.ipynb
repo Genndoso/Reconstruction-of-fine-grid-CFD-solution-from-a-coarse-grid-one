{
  "cells": [
    {
      "cell_type": "code",
      "execution_count": 1,
      "metadata": {
        "colab": {
          "base_uri": "https://localhost:8080/"
        },
        "id": "p1UprMbLuyAk",
        "outputId": "341ed4ad-d085-4dd7-9e9b-803943ff3379"
      },
      "outputs": [
        {
          "output_type": "stream",
          "name": "stdout",
          "text": [
            "Random Seed:  999\n"
          ]
        }
      ],
      "source": [
        "import os\n",
        "import random\n",
        "import torch\n",
        "import torch.nn as nn\n",
        "import torch.nn.parallel\n",
        "import torch.backends.cudnn as cudnn\n",
        "import torch.optim as optim\n",
        "import torch.utils.data\n",
        "import torchvision.datasets as dset\n",
        "import torchvision.transforms as transforms\n",
        "import torchvision.utils as vutils\n",
        "import numpy as np\n",
        "import matplotlib.pyplot as plt\n",
        "import matplotlib.animation as animation\n",
        "from IPython.display import HTML\n",
        "import os\n",
        "from PIL import Image\n",
        "from torch.utils.data import Dataset, DataLoader\n",
        "from torchvision.utils import save_image\n",
        "import torchvision.transforms as transforms\n",
        "from tqdm import tqdm\n",
        "# Set random seed for reproducibility\n",
        "manualSeed = 999\n",
        "#manualSeed = random.randint(1, 10000) # use if you want new results\n",
        "print(\"Random Seed: \", manualSeed)\n",
        "random.seed(manualSeed)\n",
        "torch.manual_seed(manualSeed)\n",
        "import netCDF4 as nc\n",
        "import scipy.io as sio"
      ]
    },
    {
      "cell_type": "code",
      "execution_count": 2,
      "metadata": {
        "id": "F-CYyCKuW7lN"
      },
      "outputs": [],
      "source": [
        "DEVICE = \"cuda\" if torch.cuda.is_available() else \"cpu\""
      ]
    },
    {
      "cell_type": "code",
      "source": [
        "from google.colab import drive\n",
        "drive.mount('/content/drive')"
      ],
      "metadata": {
        "colab": {
          "base_uri": "https://localhost:8080/"
        },
        "id": "pVJWNqKZy8GJ",
        "outputId": "cc883d20-f19d-4ee9-b59e-fad32d35c360"
      },
      "execution_count": 3,
      "outputs": [
        {
          "output_type": "stream",
          "name": "stdout",
          "text": [
            "Mounted at /content/drive\n"
          ]
        }
      ]
    },
    {
      "cell_type": "code",
      "execution_count": 4,
      "metadata": {
        "id": "AMbxL3bvW0lU"
      },
      "outputs": [],
      "source": [
        "def save_some_examples(gen, val_loader, epoch, folder):\n",
        "    x, y = next(iter(val_loader))\n",
        "    x, y = x.to(DEVICE), y.to(DEVICE)\n",
        "    gen.eval()\n",
        "    with torch.no_grad():\n",
        "        y_fake = gen(x)\n",
        "        y_fake = y_fake * 0.5 + 0.5  # remove normalization#\n",
        "        save_image(y_fake, folder + f\"/y_gen_{epoch}.png\")\n",
        "        save_image(x * 0.5 + 0.5, folder + f\"/input_{epoch}.png\")\n",
        "        if epoch == 1:\n",
        "            save_image(y * 0.5 + 0.5, folder + f\"/label_{epoch}.png\")\n",
        "    gen.train()\n",
        "\n",
        "\n",
        "def save_checkpoint(model, optimizer, filename=\"my_checkpoint.pth.tar\"):\n",
        "    print(\"=> Saving checkpoint\")\n",
        "    checkpoint = {\n",
        "        \"state_dict\": model.state_dict(),\n",
        "        \"optimizer\": optimizer.state_dict(),\n",
        "    }\n",
        "    torch.save(checkpoint, filename)\n",
        "\n",
        "\n",
        "def load_checkpoint(checkpoint_file, model, optimizer, lr):\n",
        "    print(\"=> Loading checkpoint\")\n",
        "    checkpoint = torch.load(checkpoint_file, map_location=DEVICE)\n",
        "    model.load_state_dict(checkpoint[\"state_dict\"])\n",
        "    optimizer.load_state_dict(checkpoint[\"optimizer\"])\n",
        "\n",
        "    # If we don't do this then it will just have learning rate of old checkpoint\n",
        "    # and it will lead to many hours of debugging \\:\n",
        "    for param_group in optimizer.param_groups:\n",
        "        param_group[\"lr\"] = lr"
      ]
    },
    {
      "cell_type": "code",
      "execution_count": 5,
      "metadata": {
        "id": "IzycPhIGOduD"
      },
      "outputs": [],
      "source": [
        "img1 = plt.imread('/content/drive/MyDrive/coarse_grid/timestamp_coarse_120.jpg')"
      ]
    },
    {
      "cell_type": "code",
      "source": [
        "fig = plt.subplots(figsize=(15,10))\n",
        "\n",
        "plt.imshow(img1)"
      ],
      "metadata": {
        "colab": {
          "base_uri": "https://localhost:8080/",
          "height": 173
        },
        "id": "wB-5p25F0JJG",
        "outputId": "c3891cb0-b55d-4283-9041-c06534840e2f"
      },
      "execution_count": 6,
      "outputs": [
        {
          "output_type": "execute_result",
          "data": {
            "text/plain": [
              "<matplotlib.image.AxesImage at 0x7fef6778fdd0>"
            ]
          },
          "metadata": {},
          "execution_count": 6
        },
        {
          "output_type": "display_data",
          "data": {
            "text/plain": [
              "<Figure size 1080x720 with 1 Axes>"
            ],
            "image/png": "[encoded data removed]"
          },
          "metadata": {
            "needs_background": "light"
          }
        }
      ]
    },
    {
      "cell_type": "code",
      "execution_count": 7,
      "metadata": {
        "id": "i5LfJ4OfO7Wz"
      },
      "outputs": [],
      "source": [
        "transform_only_input = transforms.Compose(\n",
        "    [transforms.ToPILImage(),\n",
        "     transforms.ToTensor(),\n",
        "    #    transforms.RandomHorizontalFlip(p=0.5),\n",
        "    #    transforms.ColorJitter(),\n",
        "        transforms.Normalize(mean=[0.5, 0.5, 0.5], std=[0.5, 0.5, 0.5]),\n",
        "     \n",
        "    ]\n",
        ")\n",
        "\n",
        "transform_only_mask = transforms.Compose(\n",
        "    [transforms.ToPILImage(),\n",
        "     transforms.ToTensor(),\n",
        "        transforms.Normalize(mean=[0.5, 0.5, 0.5], std=[0.5, 0.5, 0.5]),\n",
        "        \n",
        "    \n",
        "    ]\n",
        ")"
      ]
    },
    {
      "cell_type": "markdown",
      "metadata": {
        "id": "pU1NLtDvO730"
      },
      "source": [
        "# Model initiation"
      ]
    },
    {
      "cell_type": "code",
      "execution_count": 8,
      "metadata": {
        "id": "mtaGu-mOHHZl"
      },
      "outputs": [],
      "source": [
        "import torch\n",
        "import torch.nn as nn\n",
        "\n",
        "\n",
        "class Block(nn.Module):\n",
        "    def __init__(self, in_channels, out_channels, down=True, act=\"relu\", use_dropout=False):\n",
        "        super(Block, self).__init__()\n",
        "        self.conv = nn.Sequential(\n",
        "            nn.Conv2d(in_channels, out_channels, kernel_size=(2,2),padding=1,  bias=False)\n",
        "            if down\n",
        "            else nn.ConvTranspose2d(in_channels, out_channels, kernel_size=(2,2),padding=1 , bias=False),\n",
        "            nn.BatchNorm2d(out_channels),\n",
        "            nn.ReLU() if act == \"relu\" else nn.LeakyReLU(0.2),\n",
        "        )\n",
        "\n",
        "        self.use_dropout = use_dropout\n",
        "        self.dropout = nn.Dropout(0.5)\n",
        "        self.down = down\n",
        "\n",
        "    def forward(self, x):\n",
        "        x = self.conv(x)\n",
        "        return self.dropout(x) if self.use_dropout else x\n",
        "\n",
        "\n",
        "class Generator(nn.Module):\n",
        "    def __init__(self, in_channels=3, features=64):\n",
        "        super().__init__()\n",
        "        self.initial_down = nn.Sequential(\n",
        "            nn.Conv2d(in_channels, features, 4, 2, 1, padding_mode=\"reflect\"),\n",
        "            nn.LeakyReLU(0.2),)\n",
        "        self.down1 = Block(features, features * 2, down=True, act=\"leaky\", use_dropout=False)\n",
        "        self.down2 = Block(features * 2, features * 4, down=True, act=\"leaky\", use_dropout=False)\n",
        "        self.down3 = Block(features * 4, features * 8, down=True, act=\"leaky\", use_dropout=False)\n",
        "        self.down4 = Block(features * 8, features * 8, down=True, act=\"leaky\", use_dropout=False)\n",
        "        self.down5 = Block(features * 8, features * 8, down=True, act=\"leaky\", use_dropout=False)\n",
        "        self.down6 = Block(features * 8, features * 8, down=True, act=\"leaky\", use_dropout=False)\n",
        "        self.bottleneck = nn.Sequential(nn.Conv2d(features * 8, features * 8, 4, 1, 2), nn.ReLU())\n",
        "\n",
        "\n",
        "        self.up1 = Block(features * 8, features * 8, down=False, act=\"relu\", use_dropout=True)\n",
        "        self.up2 = Block(features * 8 * 2, features * 8, down=False, act=\"relu\", use_dropout=True)\n",
        "        self.up3 = Block(features * 8 * 2, features * 8, down=False, act=\"relu\", use_dropout=True)\n",
        "        self.up4 = Block(features * 8 * 2, features * 8, down=False, act=\"relu\", use_dropout=False)\n",
        "        self.up5 = Block(features * 8 * 2, features * 4, down=False, act=\"relu\", use_dropout=False)\n",
        "        self.up6 = Block(features * 4 * 2, features * 2, down=False, act=\"relu\", use_dropout=False)\n",
        "        self.up7 = Block(features * 2 * 2, features, down=False, act=\"relu\", use_dropout=False)\n",
        "        self.final_up = nn.Sequential(nn.ConvTranspose2d(features * 2, in_channels, kernel_size=4, stride=2, padding=1),nn.Tanh(),)\n",
        "\n",
        "    def forward(self, x):\n",
        "        d1 = self.initial_down(x)\n",
        "        d2 = self.down1(d1)\n",
        "        d3 = self.down2(d2)\n",
        "        d4 = self.down3(d3)\n",
        "        d5 = self.down4(d4)\n",
        "        d6 = self.down5(d5)\n",
        "        d7 = self.down6(d6)\n",
        "        bottleneck = self.bottleneck(d7)\n",
        "        up1 = self.up1(bottleneck)\n",
        "        up2 = self.up2(torch.cat([up1, d7], 1))\n",
        "        up3 = self.up3(torch.cat([up2, d6], 1))\n",
        "        up4 = self.up4(torch.cat([up3, d5], 1))\n",
        "        up5 = self.up5(torch.cat([up4, d4], 1))\n",
        "        up6 = self.up6(torch.cat([up5, d3], 1))\n",
        "        up7 = self.up7(torch.cat([up6, d2], 1))\n",
        "        return self.final_up(torch.cat([up7, d1], 1))\n",
        "\n",
        "\n"
      ]
    },
    {
      "cell_type": "code",
      "execution_count": 10,
      "metadata": {
        "id": "UMcqoK-rPFDK"
      },
      "outputs": [],
      "source": [
        "class CNNBlock(nn.Module):\n",
        "    def __init__(self, in_channels, out_channels, stride):\n",
        "        super(CNNBlock, self).__init__()\n",
        "        self.conv = nn.Sequential(\n",
        "            nn.Conv2d(\n",
        "                in_channels, out_channels, 2, stride, bias=False\n",
        "            ),\n",
        "            nn.BatchNorm2d(out_channels),\n",
        "            nn.LeakyReLU(0.2),\n",
        "        )\n",
        "\n",
        "    def forward(self, x):\n",
        "        return self.conv(x)\n",
        "\n",
        "\n",
        "class Discriminator(nn.Module):\n",
        "    def __init__(self, in_channels=3, features=[64, 128, 256, 512]):\n",
        "        super().__init__()\n",
        "        self.initial = nn.Sequential(\n",
        "            nn.Conv2d(\n",
        "                in_channels * 2,\n",
        "                features[0],\n",
        "                kernel_size=4,\n",
        "                stride=2,\n",
        "                padding=1,\n",
        "                padding_mode=\"reflect\",\n",
        "            ),\n",
        "            nn.LeakyReLU(0.2),\n",
        "        )\n",
        "\n",
        "        layers = []\n",
        "        in_channels = features[0]\n",
        "        for feature in features[1:]:\n",
        "            layers.append(\n",
        "                CNNBlock(in_channels, feature, stride=1 if feature == features[-1] else 2),\n",
        "            )\n",
        "            in_channels = feature\n",
        "\n",
        "        layers.append(\n",
        "            nn.Conv2d(\n",
        "                in_channels, 1, kernel_size=4, stride=1, padding=1, padding_mode=\"reflect\"\n",
        "            ),\n",
        "        )\n",
        "\n",
        "        self.model = nn.Sequential(*layers)\n",
        "\n",
        "    def forward(self, x, y):\n",
        "        x = torch.cat([x, y], dim=1)\n",
        "        x = self.initial(x)\n",
        "        x = self.model(x)\n",
        "        return x\n",
        "\n",
        "\n"
      ]
    },
    {
      "cell_type": "code",
      "execution_count": 11,
      "metadata": {
        "id": "SCx-JtoqRaqv"
      },
      "outputs": [],
      "source": [
        "class MapDataset(Dataset):\n",
        "    def __init__(self, root_dir,target_dir):\n",
        "        self.root_dir = root_dir\n",
        "        self.target_dir = target_dir\n",
        "        self.list_files = os.listdir(self.root_dir)\n",
        "        self.list_files_target = os.listdir(self.target_dir)\n",
        "\n",
        "    def __len__(self):\n",
        "        return len(self.list_files)\n",
        "\n",
        "    def __getitem__(self, index):\n",
        "        img_file = self.list_files[index]\n",
        "        img_file_target = self.list_files_target[index]\n",
        "        img_path = os.path.join(self.root_dir, img_file)\n",
        "        img_path_target = os.path.join(self.target_dir, img_file_target)\n",
        "       \n",
        "        input_image = np.array(Image.open(img_path))\n",
        "        target_image = np.array(Image.open(img_path_target))\n",
        "        \n",
        "\n",
        " #       augmentations = both_transform(image=input_image, image0=target_image)\n",
        "     \n",
        "\n",
        "     #   input_image = transform_only_input(image=input_image)[\"image\"]\n",
        "      #  target_image = transform_only_mask(image=target_image)[\"image\"]\n",
        "        input_image = transform_only_input(input_image)\n",
        "        target_image = transform_only_mask(target_image)\n",
        "\n",
        "\n",
        "\n",
        "        return input_image, target_image"
      ]
    },
    {
      "cell_type": "code",
      "execution_count": 12,
      "metadata": {
        "id": "WhtnamJ_UHjm"
      },
      "outputs": [],
      "source": [
        "TRAIN_DIR = \"/content/drive/MyDrive/coarse_grid/\"\n",
        "VAL_DIR = \"/content/drive/MyDrive/fine_grid/\"\n",
        "BATCH_SIZE = 12\n",
        "LEARNING_RATE = 1e-3\n",
        "NUM_WORKERS = 2\n",
        "NUM_EPOCHS = 100\n",
        "CHECKPOINT_DISC = \"disc.pth.tar\"\n",
        "CHECKPOINT_GEN = \"gen.pth.tar\"\n",
        "gen_weights = \"gen_weights.pt.tar\"\n",
        "disc_weights = \"disc_weights.pt.tar\"\n",
        "LOAD_MODEL=False\n",
        "SAVE_MODEL = True\n",
        "loss_disc = []\n",
        "loss_gen = []\n",
        "def train_fn(\n",
        "    disc, gen, loader, opt_disc, opt_gen, l1_loss, bce, g_scaler, d_scaler,\n",
        "learning_rate):\n",
        "    loop = tqdm(loader, leave=True)\n",
        "\n",
        "\n",
        "\n",
        "    for idx, (x, y) in enumerate(loop):\n",
        "        x = x.to(DEVICE)\n",
        "        y = y.to(DEVICE)\n",
        "\n",
        "        # Train Discriminator\n",
        "        with torch.cuda.amp.autocast():\n",
        "            y_fake = gen(x)\n",
        "            D_real = disc(x, y)\n",
        "            D_real_loss = bce(D_real, torch.ones_like(D_real))\n",
        "            D_fake = disc(x, y_fake.detach())\n",
        "            D_fake_loss = bce(D_fake, torch.zeros_like(D_fake))\n",
        "            D_loss = (D_real_loss + D_fake_loss) / 2\n",
        "            loss_disc.append(D_loss.cpu().detach().numpy())\n",
        "\n",
        "        disc.zero_grad()\n",
        "        d_scaler.scale(D_loss).backward()\n",
        "        d_scaler.step(opt_disc)\n",
        "        d_scaler.update()\n",
        "\n",
        "        # Train generator\n",
        "        with torch.cuda.amp.autocast():\n",
        "            D_fake = disc(x, y_fake)\n",
        "            G_fake_loss = bce(D_fake, torch.ones_like(D_fake))\n",
        "            L1 = l1_loss(y_fake, y) * 100\n",
        "            G_loss = G_fake_loss + L1\n",
        "            loss_gen.append(G_loss.cpu().detach().numpy())\n",
        "\n",
        "        opt_gen.zero_grad()\n",
        "        g_scaler.scale(G_loss).backward()\n",
        "        g_scaler.step(opt_gen)\n",
        "        g_scaler.update()\n",
        "\n",
        "        if idx % 10 == 0:\n",
        "            loop.set_postfix(\n",
        "                D_real=torch.sigmoid(D_real).mean().item(),\n",
        "                D_fake=torch.sigmoid(D_fake).mean().item(),\n",
        "            )\n",
        "\n",
        "\n",
        "def main():\n",
        "    disc = Discriminator(in_channels=3).to(DEVICE)\n",
        "    gen = Generator(in_channels=3, features=64).to(DEVICE)\n",
        "    opt_disc = optim.Adam(disc.parameters(), lr=LEARNING_RATE , betas=(0.5, 0.999),)\n",
        "    opt_gen = optim.Adam(gen.parameters(), lr=LEARNING_RATE , betas=(0.5, 0.999))\n",
        "    BCE = nn.BCEWithLogitsLoss()\n",
        "    L1_LOSS = nn.L1Loss()\n",
        "\n",
        "    if LOAD_MODEL:\n",
        "        load_checkpoint(\n",
        "            CHECKPOINT_GEN, gen, opt_gen, LEARNING_RATE,\n",
        "        )\n",
        "        load_checkpoint(\n",
        "            CHECKPOINT_DISC, disc, opt_disc, LEARNING_RATE,\n",
        "        )\n",
        "\n",
        "    train_dataset = MapDataset(root_dir=TRAIN_DIR,target_dir=VAL_DIR)\n",
        "    train_loader = DataLoader(\n",
        "        train_dataset,\n",
        "        batch_size=BATCH_SIZE,\n",
        "        shuffle=True,\n",
        "        num_workers=NUM_WORKERS,\n",
        "    )\n",
        "    g_scaler = torch.cuda.amp.GradScaler()\n",
        "    d_scaler = torch.cuda.amp.GradScaler()\n",
        "    val_dataset = MapDataset(root_dir=VAL_DIR,target_dir=VAL_DIR)\n",
        "    val_loader = DataLoader(val_dataset, batch_size=BATCH_SIZE, shuffle=False)\n",
        "\n",
        "    for epoch in range(NUM_EPOCHS):\n",
        "        train_fn(\n",
        "            disc, gen, train_loader, opt_disc, opt_gen, L1_LOSS, BCE, g_scaler, d_scaler,\n",
        "        LEARNING_RATE)\n",
        "\n",
        "        if SAVE_MODEL and epoch % 5 == 0:\n",
        "            torch.save(gen.state_dict(), gen_weights)\n",
        "            torch.save(disc.state_dict(),disc_weights)\n",
        "            save_checkpoint(gen, opt_gen, filename=CHECKPOINT_GEN)\n",
        "            save_checkpoint(disc, opt_disc, filename=CHECKPOINT_DISC)\n",
        "\n",
        "    #    save_some_examples(gen, val_loader, epoch, folder=\"evaluation\")\n"
      ]
    },
    {
      "cell_type": "code",
      "execution_count": 13,
      "metadata": {
        "id": "ZvpusRv7GS-m",
        "colab": {
          "base_uri": "https://localhost:8080/",
          "height": 140
        },
        "outputId": "82626cf8-0003-4cd2-9efd-f55fdde1e8d0"
      },
      "outputs": [
        {
          "output_type": "execute_result",
          "data": {
            "text/plain": [
              "'|===========================================================================|\\n|                  PyTorch CUDA memory summary, device ID 0                 |\\n|---------------------------------------------------------------------------|\\n|            CUDA OOMs: 0            |        cudaMalloc retries: 0         |\\n|===========================================================================|\\n|        Metric         | Cur Usage  | Peak Usage | Tot Alloc  | Tot Freed  |\\n|---------------------------------------------------------------------------|\\n| Allocated memory      |       0 B  |       0 B  |       0 B  |       0 B  |\\n|       from large pool |       0 B  |       0 B  |       0 B  |       0 B  |\\n|       from small pool |       0 B  |       0 B  |       0 B  |       0 B  |\\n|---------------------------------------------------------------------------|\\n| Active memory         |       0 B  |       0 B  |       0 B  |       0 B  |\\n|       from large pool |       0 B  |       0 B  |       0 B  |       0 B  |\\n|       from small pool |       0 B  |       0 B  |       0 B  |       0 B  |\\n|---------------------------------------------------------------------------|\\n| GPU reserved memory   |       0 B  |       0 B  |       0 B  |       0 B  |\\n|       from large pool |       0 B  |       0 B  |       0 B  |       0 B  |\\n|       from small pool |       0 B  |       0 B  |       0 B  |       0 B  |\\n|---------------------------------------------------------------------------|\\n| Non-releasable memory |       0 B  |       0 B  |       0 B  |       0 B  |\\n|       from large pool |       0 B  |       0 B  |       0 B  |       0 B  |\\n|       from small pool |       0 B  |       0 B  |       0 B  |       0 B  |\\n|---------------------------------------------------------------------------|\\n| Allocations           |       0    |       0    |       0    |       0    |\\n|       from large pool |       0    |       0    |       0    |       0    |\\n|       from small pool |       0    |       0    |       0    |       0    |\\n|---------------------------------------------------------------------------|\\n| Active allocs         |       0    |       0    |       0    |       0    |\\n|       from large pool |       0    |       0    |       0    |       0    |\\n|       from small pool |       0    |       0    |       0    |       0    |\\n|---------------------------------------------------------------------------|\\n| GPU reserved segments |       0    |       0    |       0    |       0    |\\n|       from large pool |       0    |       0    |       0    |       0    |\\n|       from small pool |       0    |       0    |       0    |       0    |\\n|---------------------------------------------------------------------------|\\n| Non-releasable allocs |       0    |       0    |       0    |       0    |\\n|       from large pool |       0    |       0    |       0    |       0    |\\n|       from small pool |       0    |       0    |       0    |       0    |\\n|---------------------------------------------------------------------------|\\n| Oversize allocations  |       0    |       0    |       0    |       0    |\\n|---------------------------------------------------------------------------|\\n| Oversize GPU segments |       0    |       0    |       0    |       0    |\\n|===========================================================================|\\n'"
            ],
            "application/vnd.google.colaboratory.intrinsic+json": {
              "type": "string"
            }
          },
          "metadata": {},
          "execution_count": 13
        }
      ],
      "source": [
        "torch.cuda.memory_summary(device=None, abbreviated=False)"
      ]
    },
    {
      "cell_type": "code",
      "execution_count": 14,
      "metadata": {
        "id": "QHVRfiNRbTmq"
      },
      "outputs": [],
      "source": [
        "if __name__ == \"__main__\":\n",
        "    dataset = MapDataset(TRAIN_DIR,VAL_DIR)\n",
        "\n",
        "    loader = DataLoader(dataset, batch_size=BATCH_SIZE)\n",
        "  #  for x, y in loader:\n",
        "    #    print(x.shape)\n",
        "    #    save_image(x, \"x.png\")\n",
        "    #    save_image(y, \"y.png\")\n",
        "    #    import sys\n",
        "    #    sys.exit()"
      ]
    },
    {
      "cell_type": "code",
      "source": [
        "torch.cuda.is_available()"
      ],
      "metadata": {
        "colab": {
          "base_uri": "https://localhost:8080/"
        },
        "id": "YXU69ko6yVy5",
        "outputId": "fad5a59a-cfbf-4cc5-a92e-d0f619d245c6"
      },
      "execution_count": 15,
      "outputs": [
        {
          "output_type": "execute_result",
          "data": {
            "text/plain": [
              "True"
            ]
          },
          "metadata": {},
          "execution_count": 15
        }
      ]
    },
    {
      "cell_type": "code",
      "source": [
        "if __name__ == \"__main__\":\n",
        "    main()"
      ],
      "metadata": {
        "colab": {
          "base_uri": "https://localhost:8080/"
        },
        "id": "uqSlM9kQywsf",
        "outputId": "ddc331cd-b12b-40f2-ffeb-fd639160c7ad"
      },
      "execution_count": 16,
      "outputs": [
        {
          "metadata": {
            "tags": null
          },
          "name": "stderr",
          "output_type": "stream",
          "text": [
            "100%|██████████| 124/124 [02:31<00:00,  1.22s/it, D_fake=0.47, D_real=0.486]\n"
          ]
        },
        {
          "metadata": {
            "tags": null
          },
          "name": "stdout",
          "output_type": "stream",
          "text": [
            "=> Saving checkpoint\n",
            "=> Saving checkpoint\n"
          ]
        },
        {
          "metadata": {
            "tags": null
          },
          "name": "stderr",
          "output_type": "stream",
          "text": [
            "100%|██████████| 124/124 [02:21<00:00,  1.14s/it, D_fake=0.149, D_real=0.698]\n",
            "100%|██████████| 124/124 [02:26<00:00,  1.18s/it, D_fake=0.51, D_real=0.423]\n",
            "100%|██████████| 124/124 [02:27<00:00,  1.19s/it, D_fake=0.434, D_real=0.606]\n",
            "100%|██████████| 124/124 [02:27<00:00,  1.19s/it, D_fake=0.183, D_real=0.883]\n",
            "100%|██████████| 124/124 [02:26<00:00,  1.18s/it, D_fake=0.0607, D_real=0.975]\n"
          ]
        },
        {
          "metadata": {
            "tags": null
          },
          "name": "stdout",
          "output_type": "stream",
          "text": [
            "=> Saving checkpoint\n",
            "=> Saving checkpoint\n"
          ]
        },
        {
          "metadata": {
            "tags": null
          },
          "name": "stderr",
          "output_type": "stream",
          "text": [
            "100%|██████████| 124/124 [02:26<00:00,  1.18s/it, D_fake=0.108, D_real=0.61]\n",
            "100%|██████████| 124/124 [02:25<00:00,  1.17s/it, D_fake=0.0439, D_real=0.951]\n",
            "100%|██████████| 124/124 [02:24<00:00,  1.17s/it, D_fake=0.0527, D_real=0.835]\n",
            "100%|██████████| 124/124 [02:24<00:00,  1.16s/it, D_fake=0.333, D_real=0.771]\n",
            "100%|██████████| 124/124 [02:25<00:00,  1.17s/it, D_fake=0.124, D_real=0.743]\n"
          ]
        },
        {
          "metadata": {
            "tags": null
          },
          "name": "stdout",
          "output_type": "stream",
          "text": [
            "=> Saving checkpoint\n",
            "=> Saving checkpoint\n"
          ]
        },
        {
          "metadata": {
            "tags": null
          },
          "name": "stderr",
          "output_type": "stream",
          "text": [
            "100%|██████████| 124/124 [02:25<00:00,  1.18s/it, D_fake=0.163, D_real=0.584]\n",
            "100%|██████████| 124/124 [02:25<00:00,  1.17s/it, D_fake=0.0263, D_real=0.974]\n",
            "100%|██████████| 124/124 [02:25<00:00,  1.18s/it, D_fake=0.00631, D_real=0.994]\n",
            "100%|██████████| 124/124 [02:25<00:00,  1.17s/it, D_fake=0.276, D_real=0.324]\n",
            "100%|██████████| 124/124 [02:25<00:00,  1.17s/it, D_fake=0.0543, D_real=0.856]\n"
          ]
        },
        {
          "metadata": {
            "tags": null
          },
          "name": "stdout",
          "output_type": "stream",
          "text": [
            "=> Saving checkpoint\n",
            "=> Saving checkpoint\n"
          ]
        },
        {
          "output_type": "stream",
          "name": "stderr",
          "text": [
            "100%|██████████| 124/124 [02:25<00:00,  1.17s/it, D_fake=0.39, D_real=0.412]\n",
            "100%|██████████| 124/124 [02:26<00:00,  1.18s/it, D_fake=0.0389, D_real=0.847]\n",
            "100%|██████████| 124/124 [02:26<00:00,  1.18s/it, D_fake=0.0585, D_real=0.916]\n",
            "100%|██████████| 124/124 [02:26<00:00,  1.18s/it, D_fake=0.178, D_real=0.673]\n",
            "100%|██████████| 124/124 [02:26<00:00,  1.18s/it, D_fake=0.114, D_real=0.877]\n"
          ]
        },
        {
          "output_type": "stream",
          "name": "stdout",
          "text": [
            "=> Saving checkpoint\n",
            "=> Saving checkpoint\n"
          ]
        },
        {
          "output_type": "stream",
          "name": "stderr",
          "text": [
            "100%|██████████| 124/124 [02:26<00:00,  1.18s/it, D_fake=0.0685, D_real=0.723]\n",
            "100%|██████████| 124/124 [02:26<00:00,  1.18s/it, D_fake=0.0515, D_real=0.956]\n",
            "100%|██████████| 124/124 [02:27<00:00,  1.19s/it, D_fake=0.0563, D_real=0.841]\n",
            "100%|██████████| 124/124 [02:27<00:00,  1.19s/it, D_fake=0.0261, D_real=0.966]\n",
            "100%|██████████| 124/124 [02:27<00:00,  1.19s/it, D_fake=0.0684, D_real=0.884]\n"
          ]
        },
        {
          "output_type": "stream",
          "name": "stdout",
          "text": [
            "=> Saving checkpoint\n",
            "=> Saving checkpoint\n"
          ]
        },
        {
          "output_type": "stream",
          "name": "stderr",
          "text": [
            "100%|██████████| 124/124 [02:27<00:00,  1.19s/it, D_fake=0.078, D_real=0.957]\n",
            "100%|██████████| 124/124 [02:27<00:00,  1.19s/it, D_fake=0.0361, D_real=0.933]\n",
            "100%|██████████| 124/124 [02:26<00:00,  1.18s/it, D_fake=0.0593, D_real=0.937]\n",
            "100%|██████████| 124/124 [02:26<00:00,  1.18s/it, D_fake=0.19, D_real=0.461]\n",
            "100%|██████████| 124/124 [02:27<00:00,  1.19s/it, D_fake=0.0687, D_real=0.776]\n"
          ]
        },
        {
          "output_type": "stream",
          "name": "stdout",
          "text": [
            "=> Saving checkpoint\n",
            "=> Saving checkpoint\n"
          ]
        },
        {
          "output_type": "stream",
          "name": "stderr",
          "text": [
            "100%|██████████| 124/124 [02:27<00:00,  1.19s/it, D_fake=0.0313, D_real=0.951]\n",
            "100%|██████████| 124/124 [02:26<00:00,  1.18s/it, D_fake=0.0841, D_real=0.903]\n",
            "100%|██████████| 124/124 [02:27<00:00,  1.19s/it, D_fake=0.0388, D_real=0.992]\n",
            "100%|██████████| 124/124 [02:27<00:00,  1.19s/it, D_fake=0.0685, D_real=0.859]\n",
            "100%|██████████| 124/124 [02:27<00:00,  1.19s/it, D_fake=0.507, D_real=0.484]\n"
          ]
        },
        {
          "output_type": "stream",
          "name": "stdout",
          "text": [
            "=> Saving checkpoint\n",
            "=> Saving checkpoint\n"
          ]
        },
        {
          "output_type": "stream",
          "name": "stderr",
          "text": [
            "100%|██████████| 124/124 [02:28<00:00,  1.19s/it, D_fake=0.031, D_real=0.976]\n",
            "100%|██████████| 124/124 [02:27<00:00,  1.19s/it, D_fake=0.178, D_real=0.5]\n",
            "100%|██████████| 124/124 [02:27<00:00,  1.19s/it, D_fake=0.0334, D_real=0.936]\n",
            "100%|██████████| 124/124 [02:28<00:00,  1.20s/it, D_fake=0.169, D_real=0.617]\n",
            "100%|██████████| 124/124 [02:27<00:00,  1.19s/it, D_fake=0.0773, D_real=0.564]\n"
          ]
        },
        {
          "output_type": "stream",
          "name": "stdout",
          "text": [
            "=> Saving checkpoint\n",
            "=> Saving checkpoint\n"
          ]
        },
        {
          "output_type": "stream",
          "name": "stderr",
          "text": [
            "100%|██████████| 124/124 [02:28<00:00,  1.19s/it, D_fake=0.0219, D_real=0.948]\n",
            "100%|██████████| 124/124 [02:27<00:00,  1.19s/it, D_fake=0.134, D_real=0.882]\n",
            "100%|██████████| 124/124 [02:27<00:00,  1.19s/it, D_fake=0.108, D_real=0.842]\n",
            "100%|██████████| 124/124 [02:27<00:00,  1.19s/it, D_fake=0.0208, D_real=0.98]\n",
            "100%|██████████| 124/124 [02:27<00:00,  1.19s/it, D_fake=0.257, D_real=0.625]\n"
          ]
        },
        {
          "output_type": "stream",
          "name": "stdout",
          "text": [
            "=> Saving checkpoint\n",
            "=> Saving checkpoint\n"
          ]
        },
        {
          "output_type": "stream",
          "name": "stderr",
          "text": [
            "100%|██████████| 124/124 [02:27<00:00,  1.19s/it, D_fake=0.106, D_real=0.893]\n",
            "100%|██████████| 124/124 [02:28<00:00,  1.19s/it, D_fake=0.147, D_real=0.397]\n",
            "100%|██████████| 124/124 [02:27<00:00,  1.19s/it, D_fake=0.014, D_real=0.787]\n",
            "100%|██████████| 124/124 [02:28<00:00,  1.20s/it, D_fake=0.12, D_real=0.856]\n",
            "100%|██████████| 124/124 [02:27<00:00,  1.19s/it, D_fake=0.073, D_real=0.919]\n"
          ]
        },
        {
          "output_type": "stream",
          "name": "stdout",
          "text": [
            "=> Saving checkpoint\n",
            "=> Saving checkpoint\n"
          ]
        },
        {
          "output_type": "stream",
          "name": "stderr",
          "text": [
            "100%|██████████| 124/124 [02:27<00:00,  1.19s/it, D_fake=0.339, D_real=0.544]\n",
            "100%|██████████| 124/124 [02:27<00:00,  1.19s/it, D_fake=0.48, D_real=0.411]\n",
            "100%|██████████| 124/124 [02:28<00:00,  1.19s/it, D_fake=0.147, D_real=0.865]\n",
            "100%|██████████| 124/124 [02:28<00:00,  1.19s/it, D_fake=0.112, D_real=0.548]\n",
            "100%|██████████| 124/124 [02:27<00:00,  1.19s/it, D_fake=0.0249, D_real=0.998]\n"
          ]
        },
        {
          "output_type": "stream",
          "name": "stdout",
          "text": [
            "=> Saving checkpoint\n",
            "=> Saving checkpoint\n"
          ]
        },
        {
          "output_type": "stream",
          "name": "stderr",
          "text": [
            "100%|██████████| 124/124 [02:28<00:00,  1.20s/it, D_fake=0.0453, D_real=0.982]\n",
            "100%|██████████| 124/124 [02:28<00:00,  1.20s/it, D_fake=0.0931, D_real=0.837]\n",
            "100%|██████████| 124/124 [02:28<00:00,  1.19s/it, D_fake=0.0548, D_real=0.909]\n",
            "100%|██████████| 124/124 [02:28<00:00,  1.20s/it, D_fake=0.0371, D_real=0.842]\n",
            "100%|██████████| 124/124 [02:28<00:00,  1.20s/it, D_fake=0.0544, D_real=0.917]\n"
          ]
        },
        {
          "output_type": "stream",
          "name": "stdout",
          "text": [
            "=> Saving checkpoint\n",
            "=> Saving checkpoint\n"
          ]
        },
        {
          "output_type": "stream",
          "name": "stderr",
          "text": [
            "100%|██████████| 124/124 [02:28<00:00,  1.19s/it, D_fake=0.0847, D_real=0.681]\n",
            "100%|██████████| 124/124 [02:28<00:00,  1.19s/it, D_fake=0.0327, D_real=0.871]\n",
            "100%|██████████| 124/124 [02:28<00:00,  1.20s/it, D_fake=0.0752, D_real=0.787]\n",
            "100%|██████████| 124/124 [02:27<00:00,  1.19s/it, D_fake=0.00696, D_real=0.965]\n",
            "100%|██████████| 124/124 [02:28<00:00,  1.19s/it, D_fake=0.0594, D_real=0.85]\n"
          ]
        },
        {
          "output_type": "stream",
          "name": "stdout",
          "text": [
            "=> Saving checkpoint\n",
            "=> Saving checkpoint\n"
          ]
        },
        {
          "output_type": "stream",
          "name": "stderr",
          "text": [
            "100%|██████████| 124/124 [02:28<00:00,  1.20s/it, D_fake=0.0374, D_real=0.973]\n",
            "100%|██████████| 124/124 [02:27<00:00,  1.19s/it, D_fake=0.188, D_real=0.771]\n",
            "100%|██████████| 124/124 [02:28<00:00,  1.20s/it, D_fake=0.0296, D_real=0.972]\n",
            "100%|██████████| 124/124 [02:28<00:00,  1.19s/it, D_fake=0.0188, D_real=0.978]\n",
            "100%|██████████| 124/124 [02:27<00:00,  1.19s/it, D_fake=0.0794, D_real=0.936]\n"
          ]
        },
        {
          "output_type": "stream",
          "name": "stdout",
          "text": [
            "=> Saving checkpoint\n",
            "=> Saving checkpoint\n"
          ]
        },
        {
          "output_type": "stream",
          "name": "stderr",
          "text": [
            "100%|██████████| 124/124 [02:28<00:00,  1.20s/it, D_fake=0.0159, D_real=0.951]\n",
            "100%|██████████| 124/124 [02:28<00:00,  1.20s/it, D_fake=0.173, D_real=0.58]\n",
            "100%|██████████| 124/124 [02:27<00:00,  1.19s/it, D_fake=0.0282, D_real=0.811]\n",
            "100%|██████████| 124/124 [02:28<00:00,  1.20s/it, D_fake=0.336, D_real=0.565]\n",
            "100%|██████████| 124/124 [02:28<00:00,  1.20s/it, D_fake=0.0633, D_real=0.86]\n"
          ]
        },
        {
          "output_type": "stream",
          "name": "stdout",
          "text": [
            "=> Saving checkpoint\n",
            "=> Saving checkpoint\n"
          ]
        },
        {
          "output_type": "stream",
          "name": "stderr",
          "text": [
            "100%|██████████| 124/124 [02:28<00:00,  1.20s/it, D_fake=0.388, D_real=0.559]\n",
            "100%|██████████| 124/124 [02:28<00:00,  1.19s/it, D_fake=0.0555, D_real=0.971]\n",
            "100%|██████████| 124/124 [02:28<00:00,  1.20s/it, D_fake=0.0101, D_real=0.998]\n",
            "100%|██████████| 124/124 [02:28<00:00,  1.20s/it, D_fake=0.0187, D_real=0.964]\n",
            "100%|██████████| 124/124 [02:27<00:00,  1.19s/it, D_fake=0.0218, D_real=0.944]\n"
          ]
        },
        {
          "output_type": "stream",
          "name": "stdout",
          "text": [
            "=> Saving checkpoint\n",
            "=> Saving checkpoint\n"
          ]
        },
        {
          "output_type": "stream",
          "name": "stderr",
          "text": [
            "100%|██████████| 124/124 [02:28<00:00,  1.20s/it, D_fake=0.0854, D_real=0.906]\n",
            "100%|██████████| 124/124 [02:27<00:00,  1.19s/it, D_fake=0.123, D_real=0.701]\n",
            "100%|██████████| 124/124 [02:28<00:00,  1.20s/it, D_fake=0.0167, D_real=0.918]\n",
            "100%|██████████| 124/124 [02:28<00:00,  1.20s/it, D_fake=0.115, D_real=0.849]\n",
            "100%|██████████| 124/124 [02:27<00:00,  1.19s/it, D_fake=0.00957, D_real=0.892]\n"
          ]
        },
        {
          "output_type": "stream",
          "name": "stdout",
          "text": [
            "=> Saving checkpoint\n",
            "=> Saving checkpoint\n"
          ]
        },
        {
          "output_type": "stream",
          "name": "stderr",
          "text": [
            "100%|██████████| 124/124 [02:28<00:00,  1.19s/it, D_fake=0.0555, D_real=0.972]\n",
            "100%|██████████| 124/124 [02:28<00:00,  1.20s/it, D_fake=0.0263, D_real=0.973]\n",
            "100%|██████████| 124/124 [02:28<00:00,  1.20s/it, D_fake=0.0679, D_real=0.849]\n",
            "100%|██████████| 124/124 [02:28<00:00,  1.20s/it, D_fake=0.142, D_real=0.552]\n",
            "100%|██████████| 124/124 [02:27<00:00,  1.19s/it, D_fake=0.0618, D_real=0.931]\n"
          ]
        },
        {
          "output_type": "stream",
          "name": "stdout",
          "text": [
            "=> Saving checkpoint\n",
            "=> Saving checkpoint\n"
          ]
        },
        {
          "output_type": "stream",
          "name": "stderr",
          "text": [
            "100%|██████████| 124/124 [02:28<00:00,  1.20s/it, D_fake=0.0246, D_real=0.96]\n",
            "100%|██████████| 124/124 [02:28<00:00,  1.20s/it, D_fake=0.0233, D_real=0.957]\n",
            "100%|██████████| 124/124 [02:28<00:00,  1.20s/it, D_fake=0.0551, D_real=0.879]\n",
            "100%|██████████| 124/124 [02:28<00:00,  1.20s/it, D_fake=0.198, D_real=0.936]\n",
            "100%|██████████| 124/124 [02:28<00:00,  1.20s/it, D_fake=0.0411, D_real=0.956]\n"
          ]
        },
        {
          "output_type": "stream",
          "name": "stdout",
          "text": [
            "=> Saving checkpoint\n",
            "=> Saving checkpoint\n"
          ]
        },
        {
          "output_type": "stream",
          "name": "stderr",
          "text": [
            "100%|██████████| 124/124 [02:28<00:00,  1.20s/it, D_fake=0.0509, D_real=0.97]\n",
            "100%|██████████| 124/124 [02:28<00:00,  1.20s/it, D_fake=0.407, D_real=0.609]\n",
            "100%|██████████| 124/124 [02:28<00:00,  1.20s/it, D_fake=0.0614, D_real=0.9]\n",
            "100%|██████████| 124/124 [02:28<00:00,  1.19s/it, D_fake=0.236, D_real=0.719]\n"
          ]
        }
      ]
    },
    {
      "cell_type": "markdown",
      "metadata": {
        "id": "MjoSlUV0dVX6"
      },
      "source": [
        "# Testing"
      ]
    },
    {
      "cell_type": "code",
      "source": [
        "def test_discriminator():\n",
        "    x = torch.randn((1, 3, 80, 640))\n",
        "    y = torch.randn((1, 3, 80, 640))\n",
        "    model = Discriminator(in_channels=3)\n",
        "    preds = model(x, y)\n",
        "    print(model)\n",
        "    print(preds.shape)"
      ],
      "metadata": {
        "id": "z9AMG2pp623F"
      },
      "execution_count": 17,
      "outputs": []
    },
    {
      "cell_type": "code",
      "source": [
        "def test_generator(picture, have_pic = True):\n",
        "  model = Generator(in_channels=3, features=64)\n",
        "  if have_pic:\n",
        "      preds = model(picture)\n",
        "  else:\n",
        "    x = torch.randn((1, 3, 80, 640))\n",
        "    preds = model(x)\n",
        "  return preds"
      ],
      "metadata": {
        "id": "rSw9-Tsf61JP"
      },
      "execution_count": 18,
      "outputs": []
    },
    {
      "cell_type": "code",
      "source": [
        "generator = Generator(in_channels=3, features=64).to(DEVICE)\n",
        "opt_gen = optim.Adam(generator.parameters(), lr=LEARNING_RATE , betas=(0.5, 0.999))\n"
      ],
      "metadata": {
        "id": "l-HMj4D7YItg"
      },
      "execution_count": 19,
      "outputs": []
    },
    {
      "cell_type": "code",
      "source": [
        "def load_checkpoint(checkpoint_file, model, optimizer, lr):\n",
        "    print(\"=> Loading checkpoint\")\n",
        "    checkpoint = torch.load(checkpoint_file, map_location=DEVICE)\n",
        "    model.load_state_dict(checkpoint[\"state_dict\"])\n",
        "    optimizer.load_state_dict(checkpoint[\"optimizer\"])\n",
        "\n",
        "    # If we don't do this then it will just have learning rate of old checkpoint\n",
        "    # and it will lead to many hours of debugging \\:\n",
        "    for param_group in optimizer.param_groups:\n",
        "        param_group[\"lr\"] = lr\n",
        "    return model\n",
        "\n",
        "gen = load_checkpoint('/content/gen.pth.tar',generator,opt_gen,LEARNING_RATE)"
      ],
      "metadata": {
        "id": "pNumWovgB8R_",
        "colab": {
          "base_uri": "https://localhost:8080/"
        },
        "outputId": "2ad877e1-1852-4881-e27f-166d7a71c362"
      },
      "execution_count": 20,
      "outputs": [
        {
          "output_type": "stream",
          "name": "stdout",
          "text": [
            "=> Loading checkpoint\n"
          ]
        }
      ]
    },
    {
      "cell_type": "code",
      "source": [
        "import glob\n",
        "inputs = glob.glob('/content/drive/MyDrive/test' + '/*.jpg')\n",
        "outputs = glob.glob('/content/drive/MyDrive/fine_test' + '/*.jpg')\n",
        "for file,file2 in zip(inputs,outputs):\n",
        "  # print(file)\n",
        "   input_image = np.array(Image.open(file))\n",
        "   target_image = np.array(Image.open(file2))\n",
        "   t1 = transform_only_input(input_image)\n",
        "   t1 = t1.unsqueeze(dim=0)\n",
        "   preds = test_generator(t1)\n",
        "\n",
        "   invTrans = transforms.Compose([ transforms.Normalize(mean = [ 0., 0., 0. ],\n",
        "                                                            std = [ 1/0.5, 1/0.5, 1/0.5 ]),\n",
        "                                        transforms.Normalize(mean = [- 0.5,- 0.5, -0.5 ],\n",
        "                                                            std = [ 1., 1., 1. ]),\n",
        "                                      ])\n",
        "\n",
        "   inv_tensor = invTrans(preds)\n",
        "\n",
        "   ten = inv_tensor.cpu().detach().numpy()\n",
        "   score = []\n",
        "   for i in range(3):\n",
        "          score.append((np.linalg.norm(target_image[:,:,i] - ten[0][i,:,:]))/np.linalg.norm(target_image[:,:,i]))\n",
        "\n",
        "#Metric calculation\n",
        "\n",
        "\n",
        "   \n",
        "print('Metric is',np.array(score).mean())\n",
        "\n",
        "\n"
      ],
      "metadata": {
        "id": "SfQJVq-f6xPF",
        "colab": {
          "base_uri": "https://localhost:8080/"
        },
        "outputId": "b2eb5b40-e429-400e-80fc-87b4bc66e840"
      },
      "execution_count": 22,
      "outputs": [
        {
          "output_type": "stream",
          "name": "stdout",
          "text": [
            "Metric is 0.04423101\n"
          ]
        }
      ]
    },
    {
      "cell_type": "markdown",
      "metadata": {
        "id": "7lgLIqusvL58"
      },
      "source": [
        ""
      ]
    }
  ],
  "metadata": {
    "accelerator": "GPU",
    "colab": {
      "collapsed_sections": [],
      "name": "Reconstruction_of_fine_grid_with_GAN (1).ipynb",
      "provenance": []
    },
    "kernelspec": {
      "display_name": "Python 3",
      "name": "python3"
    },
    "language_info": {
      "name": "python"
    }
  },
  "nbformat": 4,
  "nbformat_minor": 0
}
