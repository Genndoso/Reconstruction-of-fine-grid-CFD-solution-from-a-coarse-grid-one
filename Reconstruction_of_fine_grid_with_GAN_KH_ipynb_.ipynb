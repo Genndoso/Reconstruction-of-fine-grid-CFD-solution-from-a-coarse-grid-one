{
  "cells": [
    {
      "cell_type": "code",
      "execution_count": 1,
      "metadata": {
        "colab": {
          "base_uri": "https://localhost:8080/"
        },
        "id": "p1UprMbLuyAk",
        "outputId": "5a9a1989-dbf7-4654-c483-51a1ec76690c"
      },
      "outputs": [
        {
          "output_type": "stream",
          "name": "stdout",
          "text": [
            "Random Seed:  999\n"
          ]
        }
      ],
      "source": [
        "import os\n",
        "import random\n",
        "import torch\n",
        "import torch.nn as nn\n",
        "import torch.nn.parallel\n",
        "import torch.backends.cudnn as cudnn\n",
        "import torch.optim as optim\n",
        "import torch.utils.data\n",
        "import torchvision.datasets as dset\n",
        "import torchvision.transforms as transforms\n",
        "import torchvision.utils as vutils\n",
        "import numpy as np\n",
        "import matplotlib.pyplot as plt\n",
        "import matplotlib.animation as animation\n",
        "from IPython.display import HTML\n",
        "import os\n",
        "from PIL import Image\n",
        "from torch.utils.data import Dataset, DataLoader\n",
        "from torchvision.utils import save_image\n",
        "import torchvision.transforms as transforms\n",
        "from tqdm import tqdm\n",
        "# Set random seed for reproducibility\n",
        "manualSeed = 999\n",
        "#manualSeed = random.randint(1, 10000) # use if you want new results\n",
        "print(\"Random Seed: \", manualSeed)\n",
        "random.seed(manualSeed)\n",
        "torch.manual_seed(manualSeed)\n",
        "import netCDF4 as nc\n",
        "import scipy.io as sio\n",
        "import pandas as pd\n",
        "import imageio"
      ]
    },
    {
      "cell_type": "code",
      "source": [
        "from google.colab import drive\n",
        "drive.mount('/content/drive')"
      ],
      "metadata": {
        "colab": {
          "base_uri": "https://localhost:8080/"
        },
        "id": "0ltjXEemSlbU",
        "outputId": "a26f9d49-faf3-4af6-b3f7-a339effc41fd"
      },
      "execution_count": 2,
      "outputs": [
        {
          "output_type": "stream",
          "name": "stdout",
          "text": [
            "Mounted at /content/drive\n"
          ]
        }
      ]
    },
    {
      "cell_type": "code",
      "source": [
        "dat1 = pd.read_csv(f'/content/drive/MyDrive/DATA KHC/finegrid/kelvin-helmholtz-fine-grid-param-idx-0-time-idx-0.csv')\n",
        "dat1"
      ],
      "metadata": {
        "id": "AjRqAzt1UQ2c",
        "colab": {
          "base_uri": "https://localhost:8080/",
          "height": 423
        },
        "outputId": "2923cd7b-8793-4fec-9c57-b1eaed4f484b"
      },
      "execution_count": 3,
      "outputs": [
        {
          "output_type": "execute_result",
          "data": {
            "text/plain": [
              "       Unnamed: 0       x1v       x2v  rho  press\n",
              "0               0  0.003906  0.003906  1.0   10.0\n",
              "1               1  0.011719  0.003906  1.0   10.0\n",
              "2               2  0.019531  0.003906  1.0   10.0\n",
              "3               3  0.027344  0.003906  1.0   10.0\n",
              "4               4  0.035156  0.003906  1.0   10.0\n",
              "...           ...       ...       ...  ...    ...\n",
              "32763       32763 -0.035156 -0.003906  1.0   10.0\n",
              "32764       32764 -0.027344 -0.003906  1.0   10.0\n",
              "32765       32765 -0.019531 -0.003906  1.0   10.0\n",
              "32766       32766 -0.011719 -0.003906  1.0   10.0\n",
              "32767       32767 -0.003906 -0.003906  1.0   10.0\n",
              "\n",
              "[32768 rows x 5 columns]"
            ],
            "text/html": [
              "\n",
              "  <div id=\"df-62d8acea-344e-4ca5-8c52-5cbbdcfc8f86\">\n",
              "    <div class=\"colab-df-container\">\n",
              "      <div>\n",
              "<style scoped>\n",
              "    .dataframe tbody tr th:only-of-type {\n",
              "        vertical-align: middle;\n",
              "    }\n",
              "\n",
              "    .dataframe tbody tr th {\n",
              "        vertical-align: top;\n",
              "    }\n",
              "\n",
              "    .dataframe thead th {\n",
              "        text-align: right;\n",
              "    }\n",
              "</style>\n",
              "<table border=\"1\" class=\"dataframe\">\n",
              "  <thead>\n",
              "    <tr style=\"text-align: right;\">\n",
              "      <th></th>\n",
              "      <th>Unnamed: 0</th>\n",
              "      <th>x1v</th>\n",
              "      <th>x2v</th>\n",
              "      <th>rho</th>\n",
              "      <th>press</th>\n",
              "    </tr>\n",
              "  </thead>\n",
              "  <tbody>\n",
              "    <tr>\n",
              "      <th>0</th>\n",
              "      <td>0</td>\n",
              "      <td>0.003906</td>\n",
              "      <td>0.003906</td>\n",
              "      <td>1.0</td>\n",
              "      <td>10.0</td>\n",
              "    </tr>\n",
              "    <tr>\n",
              "      <th>1</th>\n",
              "      <td>1</td>\n",
              "      <td>0.011719</td>\n",
              "      <td>0.003906</td>\n",
              "      <td>1.0</td>\n",
              "      <td>10.0</td>\n",
              "    </tr>\n",
              "    <tr>\n",
              "      <th>2</th>\n",
              "      <td>2</td>\n",
              "      <td>0.019531</td>\n",
              "      <td>0.003906</td>\n",
              "      <td>1.0</td>\n",
              "      <td>10.0</td>\n",
              "    </tr>\n",
              "    <tr>\n",
              "      <th>3</th>\n",
              "      <td>3</td>\n",
              "      <td>0.027344</td>\n",
              "      <td>0.003906</td>\n",
              "      <td>1.0</td>\n",
              "      <td>10.0</td>\n",
              "    </tr>\n",
              "    <tr>\n",
              "      <th>4</th>\n",
              "      <td>4</td>\n",
              "      <td>0.035156</td>\n",
              "      <td>0.003906</td>\n",
              "      <td>1.0</td>\n",
              "      <td>10.0</td>\n",
              "    </tr>\n",
              "    <tr>\n",
              "      <th>...</th>\n",
              "      <td>...</td>\n",
              "      <td>...</td>\n",
              "      <td>...</td>\n",
              "      <td>...</td>\n",
              "      <td>...</td>\n",
              "    </tr>\n",
              "    <tr>\n",
              "      <th>32763</th>\n",
              "      <td>32763</td>\n",
              "      <td>-0.035156</td>\n",
              "      <td>-0.003906</td>\n",
              "      <td>1.0</td>\n",
              "      <td>10.0</td>\n",
              "    </tr>\n",
              "    <tr>\n",
              "      <th>32764</th>\n",
              "      <td>32764</td>\n",
              "      <td>-0.027344</td>\n",
              "      <td>-0.003906</td>\n",
              "      <td>1.0</td>\n",
              "      <td>10.0</td>\n",
              "    </tr>\n",
              "    <tr>\n",
              "      <th>32765</th>\n",
              "      <td>32765</td>\n",
              "      <td>-0.019531</td>\n",
              "      <td>-0.003906</td>\n",
              "      <td>1.0</td>\n",
              "      <td>10.0</td>\n",
              "    </tr>\n",
              "    <tr>\n",
              "      <th>32766</th>\n",
              "      <td>32766</td>\n",
              "      <td>-0.011719</td>\n",
              "      <td>-0.003906</td>\n",
              "      <td>1.0</td>\n",
              "      <td>10.0</td>\n",
              "    </tr>\n",
              "    <tr>\n",
              "      <th>32767</th>\n",
              "      <td>32767</td>\n",
              "      <td>-0.003906</td>\n",
              "      <td>-0.003906</td>\n",
              "      <td>1.0</td>\n",
              "      <td>10.0</td>\n",
              "    </tr>\n",
              "  </tbody>\n",
              "</table>\n",
              "<p>32768 rows × 5 columns</p>\n",
              "</div>\n",
              "      <button class=\"colab-df-convert\" onclick=\"convertToInteractive('df-62d8acea-344e-4ca5-8c52-5cbbdcfc8f86')\"\n",
              "              title=\"Convert this dataframe to an interactive table.\"\n",
              "              style=\"display:none;\">\n",
              "        \n",
              "  <svg xmlns=\"http://www.w3.org/2000/svg\" height=\"24px\"viewBox=\"0 0 24 24\"\n",
              "       width=\"24px\">\n",
              "    <path d=\"M0 0h24v24H0V0z\" fill=\"none\"/>\n",
              "    <path d=\"M18.56 5.44l.94 2.06.94-2.06 2.06-.94-2.06-.94-.94-2.06-.94 2.06-2.06.94zm-11 1L8.5 8.5l.94-2.06 2.06-.94-2.06-.94L8.5 2.5l-.94 2.06-2.06.94zm10 10l.94 2.06.94-2.06 2.06-.94-2.06-.94-.94-2.06-.94 2.06-2.06.94z\"/><path d=\"M17.41 7.96l-1.37-1.37c-.4-.4-.92-.59-1.43-.59-.52 0-1.04.2-1.43.59L10.3 9.45l-7.72 7.72c-.78.78-.78 2.05 0 2.83L4 21.41c.39.39.9.59 1.41.59.51 0 1.02-.2 1.41-.59l7.78-7.78 2.81-2.81c.8-.78.8-2.07 0-2.86zM5.41 20L4 18.59l7.72-7.72 1.47 1.35L5.41 20z\"/>\n",
              "  </svg>\n",
              "      </button>\n",
              "      \n",
              "  <style>\n",
              "    .colab-df-container {\n",
              "      display:flex;\n",
              "      flex-wrap:wrap;\n",
              "      gap: 12px;\n",
              "    }\n",
              "\n",
              "    .colab-df-convert {\n",
              "      background-color: #E8F0FE;\n",
              "      border: none;\n",
              "      border-radius: 50%;\n",
              "      cursor: pointer;\n",
              "      display: none;\n",
              "      fill: #1967D2;\n",
              "      height: 32px;\n",
              "      padding: 0 0 0 0;\n",
              "      width: 32px;\n",
              "    }\n",
              "\n",
              "    .colab-df-convert:hover {\n",
              "      background-color: #E2EBFA;\n",
              "      box-shadow: 0px 1px 2px rgba(60, 64, 67, 0.3), 0px 1px 3px 1px rgba(60, 64, 67, 0.15);\n",
              "      fill: #174EA6;\n",
              "    }\n",
              "\n",
              "    [theme=dark] .colab-df-convert {\n",
              "      background-color: #3B4455;\n",
              "      fill: #D2E3FC;\n",
              "    }\n",
              "\n",
              "    [theme=dark] .colab-df-convert:hover {\n",
              "      background-color: #434B5C;\n",
              "      box-shadow: 0px 1px 3px 1px rgba(0, 0, 0, 0.15);\n",
              "      filter: drop-shadow(0px 1px 2px rgba(0, 0, 0, 0.3));\n",
              "      fill: #FFFFFF;\n",
              "    }\n",
              "  </style>\n",
              "\n",
              "      <script>\n",
              "        const buttonEl =\n",
              "          document.querySelector('#df-62d8acea-344e-4ca5-8c52-5cbbdcfc8f86 button.colab-df-convert');\n",
              "        buttonEl.style.display =\n",
              "          google.colab.kernel.accessAllowed ? 'block' : 'none';\n",
              "\n",
              "        async function convertToInteractive(key) {\n",
              "          const element = document.querySelector('#df-62d8acea-344e-4ca5-8c52-5cbbdcfc8f86');\n",
              "          const dataTable =\n",
              "            await google.colab.kernel.invokeFunction('convertToInteractive',\n",
              "                                                     [key], {});\n",
              "          if (!dataTable) return;\n",
              "\n",
              "          const docLinkHtml = 'Like what you see? Visit the ' +\n",
              "            '<a target=\"_blank\" href=https://colab.research.google.com/notebooks/data_table.ipynb>data table notebook</a>'\n",
              "            + ' to learn more about interactive tables.';\n",
              "          element.innerHTML = '';\n",
              "          dataTable['output_type'] = 'display_data';\n",
              "          await google.colab.output.renderOutput(dataTable, element);\n",
              "          const docLink = document.createElement('div');\n",
              "          docLink.innerHTML = docLinkHtml;\n",
              "          element.appendChild(docLink);\n",
              "        }\n",
              "      </script>\n",
              "    </div>\n",
              "  </div>\n",
              "  "
            ]
          },
          "metadata": {},
          "execution_count": 3
        }
      ]
    },
    {
      "cell_type": "code",
      "source": [
        "#plt.contourf(dat1.x1v.values.reshape(400,400), dat1.x2v.values.reshape(400,400), dat1.press.values.reshape(400,400), 100, cmap = 'Spectral')"
      ],
      "metadata": {
        "id": "hZRb8gZyGWZF"
      },
      "execution_count": 4,
      "outputs": []
    },
    {
      "cell_type": "code",
      "source": [
        "#plt.contourf(dat1.x1v.values.reshape(400,400), dat1.x2v.values.reshape(400,400), dat1.press.values.reshape(400,400), 100)"
      ],
      "metadata": {
        "id": "kpfv-rVIFMkz"
      },
      "execution_count": 5,
      "outputs": []
    },
    {
      "cell_type": "code",
      "source": [
        "#plt.contourf(dat2.x1v.values.reshape(200,200), dat2.x2v.values.reshape(200,200), dat2.press.values.reshape(200,200), 100)"
      ],
      "metadata": {
        "id": "q2R97w9PFg5j"
      },
      "execution_count": 6,
      "outputs": []
    },
    {
      "cell_type": "code",
      "source": [
        "for i in range(0,100):\n",
        "  for k in range(0,3):\n",
        "   # if i < 10:\n",
        "                           \n",
        "    dat1 = pd.read_csv(f'/content/drive/MyDrive/DATA KHC/finegrid/kelvin-helmholtz-fine-grid-param-idx-{k}-time-idx-{i}.csv')\n",
        "  #  else:\n",
        "   #   dat1 = pd.read_csv(f'/content/drive/MyDrive/DATA/coarse_pandas/OrszagTang-coarse-grid-param{k}-idx-000{i}-time-idx-{i}.csv')\n",
        "    dat1 = dat1.drop(columns=['Unnamed: 0','rho'])\n",
        "    data1 = np.array(dat1)\n",
        "    a = data1.reshape(128,256,3)\n",
        "    dat = np.resize(a,(64,128,3))\n",
        "\n",
        "    imageio.imwrite(f'/content/drive/MyDrive/DATA KHC/FINE_PIC/kelvin-helmholtz-fine-grid-param-idx-{k}-time-idx-{i}.jpg',dat)\n",
        "   # plt.savefig(f'/content/drive/MyDrive/coarse_pic//OrszagTang-coarse-grid-param{k}-idx-00000-time-idx-{i}.jpg',a)"
      ],
      "metadata": {
        "id": "-1tsgWm4_8G4"
      },
      "execution_count": null,
      "outputs": []
    },
    {
      "cell_type": "code",
      "source": [
        "for i in range(0,100):\n",
        "  for k in range(0,3):\n",
        "   # if i < 10:\n",
        "                           \n",
        "    dat1 = pd.read_csv(f'/content/drive/MyDrive/DATA KHC/coarsegrid/kelvin-helmholtz-coarse-grid-param-idx-{k}-time-idx-{i}.csv')\n",
        "  #  else:\n",
        "   #   dat1 = pd.read_csv(f'/content/drive/MyDrive/DATA/coarse_pandas/OrszagTang-coarse-grid-param{k}-idx-000{i}-time-idx-{i}.csv')\n",
        "    dat1 = dat1.drop(columns=['Unnamed: 0','rho'])\n",
        "    data1 = np.array(dat1)\n",
        "    a = data1.reshape(64,128,3)\n",
        "\n",
        "    imageio.imwrite(f'/content/drive/MyDrive/DATA KHC/COARSE_PIC/kelvin-helmholtz-coarse-grid-param-idx-{k}-time-idx-{i}.jpg',a)\n",
        "   # plt.savefig(f'/content/drive/MyDrive/coarse_pic//OrszagTang-coarse-grid-param{k}-idx-00000-time-idx-{i}.jpg',a)"
      ],
      "metadata": {
        "id": "F17m2b27YMO9"
      },
      "execution_count": null,
      "outputs": []
    },
    {
      "cell_type": "code",
      "source": [
        "new_image = np.resize(a,(64,128,3))"
      ],
      "metadata": {
        "id": "q379ulFee89p"
      },
      "execution_count": 18,
      "outputs": []
    },
    {
      "cell_type": "code",
      "source": [
        "#a = data1.reshape(400,400,3)\n",
        "plt.imshow(new_image)"
      ],
      "metadata": {
        "colab": {
          "base_uri": "https://localhost:8080/",
          "height": 272
        },
        "id": "pSj5e_CNASMs",
        "outputId": "292710ee-3cff-4cf6-a305-c9a9fcc4514f"
      },
      "execution_count": 19,
      "outputs": [
        {
          "output_type": "stream",
          "name": "stderr",
          "text": [
            "WARNING:matplotlib.image:Clipping input data to the valid range for imshow with RGB data ([0..1] for floats or [0..255] for integers).\n"
          ]
        },
        {
          "output_type": "execute_result",
          "data": {
            "text/plain": [
              "<matplotlib.image.AxesImage at 0x7fa8ed09e710>"
            ]
          },
          "metadata": {},
          "execution_count": 19
        },
        {
          "output_type": "display_data",
          "data": {
            "text/plain": [
              "<Figure size 432x288 with 1 Axes>"
            ],
            "image/png": "[encoded data removed]"
          },
          "metadata": {
            "needs_background": "light"
          }
        }
      ]
    },
    {
      "cell_type": "code",
      "source": [
        "import zipfile\n",
        "#file_location = '/content/drive/MyDrive/orszag.zip'\n",
        "!unzip -u \"/content/drive/MyDrive/orszag.zip\" -d \"/content/drive/My Drive/DATA\""
      ],
      "metadata": {
        "colab": {
          "base_uri": "https://localhost:8080/"
        },
        "id": "dQdhzCpb9L1p",
        "outputId": "3dd8d8de-41b9-4a52-aa51-f68812421961"
      },
      "execution_count": null,
      "outputs": [
        {
          "output_type": "stream",
          "name": "stdout",
          "text": [
            "Archive:  /content/drive/MyDrive/orszag.zip\n"
          ]
        }
      ]
    },
    {
      "cell_type": "code",
      "execution_count": 22,
      "metadata": {
        "id": "F-CYyCKuW7lN"
      },
      "outputs": [],
      "source": [
        "DEVICE = \"cuda\" if torch.cuda.is_available() else \"cpu\""
      ]
    },
    {
      "cell_type": "markdown",
      "source": [
        ""
      ],
      "metadata": {
        "id": "f2nDRl4tcsCl"
      }
    },
    {
      "cell_type": "code",
      "execution_count": 23,
      "metadata": {
        "id": "AMbxL3bvW0lU"
      },
      "outputs": [],
      "source": [
        "def save_some_examples(gen, val_loader, epoch, folder):\n",
        "    x, y = next(iter(val_loader))\n",
        "    x, y = x.to(DEVICE), y.to(DEVICE)\n",
        "    gen.eval()\n",
        "    with torch.no_grad():\n",
        "        y_fake = gen(x)\n",
        "        y_fake = y_fake * 0.5 + 0.5  # remove normalization#\n",
        "        save_image(y_fake, folder + f\"/y_gen_{epoch}.png\")\n",
        "        save_image(x * 0.5 + 0.5, folder + f\"/input_{epoch}.png\")\n",
        "        if epoch == 1:\n",
        "            save_image(y * 0.5 + 0.5, folder + f\"/label_{epoch}.png\")\n",
        "    gen.train()\n",
        "\n",
        "\n",
        "def save_checkpoint(model, optimizer, filename=\"my_checkpoint.pth.tar\"):\n",
        "    print(\"=> Saving checkpoint\")\n",
        "    checkpoint = {\n",
        "        \"state_dict\": model.state_dict(),\n",
        "        \"optimizer\": optimizer.state_dict(),\n",
        "    }\n",
        "    torch.save(checkpoint, filename)\n",
        "\n",
        "\n",
        "def load_checkpoint(checkpoint_file, model, optimizer, lr):\n",
        "    print(\"=> Loading checkpoint\")\n",
        "    checkpoint = torch.load(checkpoint_file, map_location=DEVICE)\n",
        "    model.load_state_dict(checkpoint[\"state_dict\"])\n",
        "    optimizer.load_state_dict(checkpoint[\"optimizer\"])\n",
        "\n",
        "    # If we don't do this then it will just have learning rate of old checkpoint\n",
        "    # and it will lead to many hours of debugging \\:\n",
        "    for param_group in optimizer.param_groups:\n",
        "        param_group[\"lr\"] = lr"
      ]
    },
    {
      "cell_type": "code",
      "execution_count": 24,
      "metadata": {
        "id": "i5LfJ4OfO7Wz"
      },
      "outputs": [],
      "source": [
        "transform_only_input = transforms.Compose(\n",
        "    [transforms.ToPILImage(),\n",
        "     transforms.ToTensor(),\n",
        "      #  transforms.RandomHorizontalFlip(p=0.5),\n",
        "     #   transforms.ColorJitter(),\n",
        "        transforms.Normalize(mean=[0.5, 0.5, 0.5], std=[0.5, 0.5, 0.5]),\n",
        "     \n",
        "    ]\n",
        ")\n",
        "\n",
        "transform_only_mask = transforms.Compose(\n",
        "    [transforms.ToPILImage(),\n",
        "     transforms.ToTensor(),\n",
        "        transforms.Normalize(mean=[0.5, 0.5, 0.5], std=[0.5, 0.5, 0.5]),\n",
        "        \n",
        "    \n",
        "    ]\n",
        ")"
      ]
    },
    {
      "cell_type": "markdown",
      "metadata": {
        "id": "pU1NLtDvO730"
      },
      "source": [
        "# Model initiation"
      ]
    },
    {
      "cell_type": "code",
      "execution_count": 25,
      "metadata": {
        "id": "mtaGu-mOHHZl"
      },
      "outputs": [],
      "source": [
        "import torch\n",
        "import torch.nn as nn\n",
        "\n",
        "\n",
        "class Block(nn.Module):\n",
        "    def __init__(self, in_channels, out_channels, down=True, act=\"relu\", use_dropout=False):\n",
        "        super(Block, self).__init__()\n",
        "        self.conv = nn.Sequential(\n",
        "            nn.Conv2d(in_channels, out_channels, kernel_size=(2,2),padding=1,  bias=False)\n",
        "            if down\n",
        "            else nn.ConvTranspose2d(in_channels, out_channels, kernel_size=(2,2),padding=1 , bias=False),\n",
        "            nn.BatchNorm2d(out_channels),\n",
        "            nn.ReLU() if act == \"relu\" else nn.LeakyReLU(0.2),\n",
        "        )\n",
        "\n",
        "        self.use_dropout = use_dropout\n",
        "        self.dropout = nn.Dropout(0.5)\n",
        "        self.down = down\n",
        "\n",
        "    def forward(self, x):\n",
        "        x = self.conv(x)\n",
        "        return self.dropout(x) if self.use_dropout else x\n",
        "\n",
        "\n",
        "class Generator(nn.Module):\n",
        "    def __init__(self, in_channels=3, features=64):\n",
        "        super().__init__()\n",
        "        self.initial_down = nn.Sequential(\n",
        "            nn.Conv2d(in_channels, features, 4, 2, 1, padding_mode=\"reflect\"),\n",
        "            nn.LeakyReLU(0.2),)\n",
        "        self.down1 = Block(features, features * 2, down=True, act=\"leaky\", use_dropout=False)\n",
        "        self.down2 = Block(features * 2, features * 4, down=True, act=\"leaky\", use_dropout=False)\n",
        "        self.down3 = Block(features * 4, features * 8, down=True, act=\"leaky\", use_dropout=False)\n",
        "        self.down4 = Block(features * 8, features * 8, down=True, act=\"leaky\", use_dropout=False)\n",
        "        self.down5 = Block(features * 8, features * 8, down=True, act=\"leaky\", use_dropout=False)\n",
        "        self.down6 = Block(features * 8, features * 8, down=True, act=\"leaky\", use_dropout=False)\n",
        "        self.bottleneck = nn.Sequential(nn.Conv2d(features * 8, features * 8, 4, 1, 2), nn.ReLU())\n",
        "\n",
        "\n",
        "        self.up1 = Block(features * 8, features * 8, down=False, act=\"relu\", use_dropout=True)\n",
        "        self.up2 = Block(features * 8 * 2, features * 8, down=False, act=\"relu\", use_dropout=True)\n",
        "        self.up3 = Block(features * 8 * 2, features * 8, down=False, act=\"relu\", use_dropout=True)\n",
        "        self.up4 = Block(features * 8 * 2, features * 8, down=False, act=\"relu\", use_dropout=False)\n",
        "        self.up5 = Block(features * 8 * 2, features * 4, down=False, act=\"relu\", use_dropout=False)\n",
        "        self.up6 = Block(features * 4 * 2, features * 2, down=False, act=\"relu\", use_dropout=False)\n",
        "        self.up7 = Block(features * 2 * 2, features, down=False, act=\"relu\", use_dropout=False)\n",
        "        self.final_up = nn.Sequential(nn.ConvTranspose2d(features * 2, in_channels, kernel_size=4, stride=2, padding=1),nn.Tanh(),)\n",
        "\n",
        "    def forward(self, x):\n",
        "        d1 = self.initial_down(x)\n",
        "        d2 = self.down1(d1)\n",
        "        d3 = self.down2(d2)\n",
        "        d4 = self.down3(d3)\n",
        "        d5 = self.down4(d4)\n",
        "        d6 = self.down5(d5)\n",
        "        d7 = self.down6(d6)\n",
        "        bottleneck = self.bottleneck(d7)\n",
        "        up1 = self.up1(bottleneck)\n",
        "        up2 = self.up2(torch.cat([up1, d7], 1))\n",
        "        up3 = self.up3(torch.cat([up2, d6], 1))\n",
        "        up4 = self.up4(torch.cat([up3, d5], 1))\n",
        "        up5 = self.up5(torch.cat([up4, d4], 1))\n",
        "        up6 = self.up6(torch.cat([up5, d3], 1))\n",
        "        up7 = self.up7(torch.cat([up6, d2], 1))\n",
        "        return self.final_up(torch.cat([up7, d1], 1))\n",
        "\n",
        "\n"
      ]
    },
    {
      "cell_type": "code",
      "execution_count": 26,
      "metadata": {
        "id": "UMcqoK-rPFDK"
      },
      "outputs": [],
      "source": [
        "class CNNBlock(nn.Module):\n",
        "    def __init__(self, in_channels, out_channels, stride):\n",
        "        super(CNNBlock, self).__init__()\n",
        "        self.conv = nn.Sequential(\n",
        "            nn.Conv2d(\n",
        "                in_channels, out_channels, 2, stride, bias=False\n",
        "            ),\n",
        "            nn.BatchNorm2d(out_channels),\n",
        "            nn.LeakyReLU(0.2),\n",
        "        )\n",
        "\n",
        "    def forward(self, x):\n",
        "        return self.conv(x)\n",
        "\n",
        "\n",
        "class Discriminator(nn.Module):\n",
        "    def __init__(self, in_channels=3, features=[64, 128, 256, 512]):\n",
        "        super().__init__()\n",
        "        self.initial = nn.Sequential(\n",
        "            nn.Conv2d(\n",
        "                in_channels * 2,\n",
        "                features[0],\n",
        "                kernel_size=4,\n",
        "                stride=2,\n",
        "                padding=1,\n",
        "                padding_mode=\"reflect\",\n",
        "            ),\n",
        "            nn.LeakyReLU(0.2),\n",
        "        )\n",
        "\n",
        "        layers = []\n",
        "        in_channels = features[0]\n",
        "        for feature in features[1:]:\n",
        "            layers.append(\n",
        "                CNNBlock(in_channels, feature, stride=1 if feature == features[-1] else 2),\n",
        "            )\n",
        "            in_channels = feature\n",
        "\n",
        "        layers.append(\n",
        "            nn.Conv2d(\n",
        "                in_channels, 1, kernel_size=4, stride=1, padding=1, padding_mode=\"reflect\"\n",
        "            ),\n",
        "        )\n",
        "\n",
        "        self.model = nn.Sequential(*layers)\n",
        "\n",
        "    def forward(self, x, y):\n",
        "        x = torch.cat([x, y], dim=1)\n",
        "        x = self.initial(x)\n",
        "        x = self.model(x)\n",
        "        return x\n",
        "\n",
        "\n"
      ]
    },
    {
      "cell_type": "code",
      "source": [
        "b = Generator()\n",
        "b"
      ],
      "metadata": {
        "colab": {
          "base_uri": "https://localhost:8080/"
        },
        "id": "10uB3IIGwXPR",
        "outputId": "fe06224b-0ed2-4709-921d-082182617005"
      },
      "execution_count": 27,
      "outputs": [
        {
          "output_type": "execute_result",
          "data": {
            "text/plain": [
              "Generator(\n",
              "  (initial_down): Sequential(\n",
              "    (0): Conv2d(3, 64, kernel_size=(4, 4), stride=(2, 2), padding=(1, 1), padding_mode=reflect)\n",
              "    (1): LeakyReLU(negative_slope=0.2)\n",
              "  )\n",
              "  (down1): Block(\n",
              "    (conv): Sequential(\n",
              "      (0): Conv2d(64, 128, kernel_size=(2, 2), stride=(1, 1), padding=(1, 1), bias=False)\n",
              "      (1): BatchNorm2d(128, eps=1e-05, momentum=0.1, affine=True, track_running_stats=True)\n",
              "      (2): LeakyReLU(negative_slope=0.2)\n",
              "    )\n",
              "    (dropout): Dropout(p=0.5, inplace=False)\n",
              "  )\n",
              "  (down2): Block(\n",
              "    (conv): Sequential(\n",
              "      (0): Conv2d(128, 256, kernel_size=(2, 2), stride=(1, 1), padding=(1, 1), bias=False)\n",
              "      (1): BatchNorm2d(256, eps=1e-05, momentum=0.1, affine=True, track_running_stats=True)\n",
              "      (2): LeakyReLU(negative_slope=0.2)\n",
              "    )\n",
              "    (dropout): Dropout(p=0.5, inplace=False)\n",
              "  )\n",
              "  (down3): Block(\n",
              "    (conv): Sequential(\n",
              "      (0): Conv2d(256, 512, kernel_size=(2, 2), stride=(1, 1), padding=(1, 1), bias=False)\n",
              "      (1): BatchNorm2d(512, eps=1e-05, momentum=0.1, affine=True, track_running_stats=True)\n",
              "      (2): LeakyReLU(negative_slope=0.2)\n",
              "    )\n",
              "    (dropout): Dropout(p=0.5, inplace=False)\n",
              "  )\n",
              "  (down4): Block(\n",
              "    (conv): Sequential(\n",
              "      (0): Conv2d(512, 512, kernel_size=(2, 2), stride=(1, 1), padding=(1, 1), bias=False)\n",
              "      (1): BatchNorm2d(512, eps=1e-05, momentum=0.1, affine=True, track_running_stats=True)\n",
              "      (2): LeakyReLU(negative_slope=0.2)\n",
              "    )\n",
              "    (dropout): Dropout(p=0.5, inplace=False)\n",
              "  )\n",
              "  (down5): Block(\n",
              "    (conv): Sequential(\n",
              "      (0): Conv2d(512, 512, kernel_size=(2, 2), stride=(1, 1), padding=(1, 1), bias=False)\n",
              "      (1): BatchNorm2d(512, eps=1e-05, momentum=0.1, affine=True, track_running_stats=True)\n",
              "      (2): LeakyReLU(negative_slope=0.2)\n",
              "    )\n",
              "    (dropout): Dropout(p=0.5, inplace=False)\n",
              "  )\n",
              "  (down6): Block(\n",
              "    (conv): Sequential(\n",
              "      (0): Conv2d(512, 512, kernel_size=(2, 2), stride=(1, 1), padding=(1, 1), bias=False)\n",
              "      (1): BatchNorm2d(512, eps=1e-05, momentum=0.1, affine=True, track_running_stats=True)\n",
              "      (2): LeakyReLU(negative_slope=0.2)\n",
              "    )\n",
              "    (dropout): Dropout(p=0.5, inplace=False)\n",
              "  )\n",
              "  (bottleneck): Sequential(\n",
              "    (0): Conv2d(512, 512, kernel_size=(4, 4), stride=(1, 1), padding=(2, 2))\n",
              "    (1): ReLU()\n",
              "  )\n",
              "  (up1): Block(\n",
              "    (conv): Sequential(\n",
              "      (0): ConvTranspose2d(512, 512, kernel_size=(2, 2), stride=(1, 1), padding=(1, 1), bias=False)\n",
              "      (1): BatchNorm2d(512, eps=1e-05, momentum=0.1, affine=True, track_running_stats=True)\n",
              "      (2): ReLU()\n",
              "    )\n",
              "    (dropout): Dropout(p=0.5, inplace=False)\n",
              "  )\n",
              "  (up2): Block(\n",
              "    (conv): Sequential(\n",
              "      (0): ConvTranspose2d(1024, 512, kernel_size=(2, 2), stride=(1, 1), padding=(1, 1), bias=False)\n",
              "      (1): BatchNorm2d(512, eps=1e-05, momentum=0.1, affine=True, track_running_stats=True)\n",
              "      (2): ReLU()\n",
              "    )\n",
              "    (dropout): Dropout(p=0.5, inplace=False)\n",
              "  )\n",
              "  (up3): Block(\n",
              "    (conv): Sequential(\n",
              "      (0): ConvTranspose2d(1024, 512, kernel_size=(2, 2), stride=(1, 1), padding=(1, 1), bias=False)\n",
              "      (1): BatchNorm2d(512, eps=1e-05, momentum=0.1, affine=True, track_running_stats=True)\n",
              "      (2): ReLU()\n",
              "    )\n",
              "    (dropout): Dropout(p=0.5, inplace=False)\n",
              "  )\n",
              "  (up4): Block(\n",
              "    (conv): Sequential(\n",
              "      (0): ConvTranspose2d(1024, 512, kernel_size=(2, 2), stride=(1, 1), padding=(1, 1), bias=False)\n",
              "      (1): BatchNorm2d(512, eps=1e-05, momentum=0.1, affine=True, track_running_stats=True)\n",
              "      (2): ReLU()\n",
              "    )\n",
              "    (dropout): Dropout(p=0.5, inplace=False)\n",
              "  )\n",
              "  (up5): Block(\n",
              "    (conv): Sequential(\n",
              "      (0): ConvTranspose2d(1024, 256, kernel_size=(2, 2), stride=(1, 1), padding=(1, 1), bias=False)\n",
              "      (1): BatchNorm2d(256, eps=1e-05, momentum=0.1, affine=True, track_running_stats=True)\n",
              "      (2): ReLU()\n",
              "    )\n",
              "    (dropout): Dropout(p=0.5, inplace=False)\n",
              "  )\n",
              "  (up6): Block(\n",
              "    (conv): Sequential(\n",
              "      (0): ConvTranspose2d(512, 128, kernel_size=(2, 2), stride=(1, 1), padding=(1, 1), bias=False)\n",
              "      (1): BatchNorm2d(128, eps=1e-05, momentum=0.1, affine=True, track_running_stats=True)\n",
              "      (2): ReLU()\n",
              "    )\n",
              "    (dropout): Dropout(p=0.5, inplace=False)\n",
              "  )\n",
              "  (up7): Block(\n",
              "    (conv): Sequential(\n",
              "      (0): ConvTranspose2d(256, 64, kernel_size=(2, 2), stride=(1, 1), padding=(1, 1), bias=False)\n",
              "      (1): BatchNorm2d(64, eps=1e-05, momentum=0.1, affine=True, track_running_stats=True)\n",
              "      (2): ReLU()\n",
              "    )\n",
              "    (dropout): Dropout(p=0.5, inplace=False)\n",
              "  )\n",
              "  (final_up): Sequential(\n",
              "    (0): ConvTranspose2d(128, 3, kernel_size=(4, 4), stride=(2, 2), padding=(1, 1))\n",
              "    (1): Tanh()\n",
              "  )\n",
              ")"
            ]
          },
          "metadata": {},
          "execution_count": 27
        }
      ]
    },
    {
      "cell_type": "code",
      "source": [
        "a = Discriminator()\n",
        "a"
      ],
      "metadata": {
        "colab": {
          "base_uri": "https://localhost:8080/"
        },
        "id": "WqLPIiWDuINf",
        "outputId": "ebf77864-5746-4c43-c332-57b89240e310"
      },
      "execution_count": 28,
      "outputs": [
        {
          "output_type": "execute_result",
          "data": {
            "text/plain": [
              "Discriminator(\n",
              "  (initial): Sequential(\n",
              "    (0): Conv2d(6, 64, kernel_size=(4, 4), stride=(2, 2), padding=(1, 1), padding_mode=reflect)\n",
              "    (1): LeakyReLU(negative_slope=0.2)\n",
              "  )\n",
              "  (model): Sequential(\n",
              "    (0): CNNBlock(\n",
              "      (conv): Sequential(\n",
              "        (0): Conv2d(64, 128, kernel_size=(2, 2), stride=(2, 2), bias=False)\n",
              "        (1): BatchNorm2d(128, eps=1e-05, momentum=0.1, affine=True, track_running_stats=True)\n",
              "        (2): LeakyReLU(negative_slope=0.2)\n",
              "      )\n",
              "    )\n",
              "    (1): CNNBlock(\n",
              "      (conv): Sequential(\n",
              "        (0): Conv2d(128, 256, kernel_size=(2, 2), stride=(2, 2), bias=False)\n",
              "        (1): BatchNorm2d(256, eps=1e-05, momentum=0.1, affine=True, track_running_stats=True)\n",
              "        (2): LeakyReLU(negative_slope=0.2)\n",
              "      )\n",
              "    )\n",
              "    (2): CNNBlock(\n",
              "      (conv): Sequential(\n",
              "        (0): Conv2d(256, 512, kernel_size=(2, 2), stride=(1, 1), bias=False)\n",
              "        (1): BatchNorm2d(512, eps=1e-05, momentum=0.1, affine=True, track_running_stats=True)\n",
              "        (2): LeakyReLU(negative_slope=0.2)\n",
              "      )\n",
              "    )\n",
              "    (3): Conv2d(512, 1, kernel_size=(4, 4), stride=(1, 1), padding=(1, 1), padding_mode=reflect)\n",
              "  )\n",
              ")"
            ]
          },
          "metadata": {},
          "execution_count": 28
        }
      ]
    },
    {
      "cell_type": "code",
      "execution_count": 29,
      "metadata": {
        "id": "SCx-JtoqRaqv"
      },
      "outputs": [],
      "source": [
        "class MapDataset(Dataset):\n",
        "    def __init__(self, root_dir,target_dir):\n",
        "        self.root_dir = root_dir\n",
        "        self.target_dir = target_dir\n",
        "        self.list_files = os.listdir(self.root_dir)\n",
        "        self.list_files_target = os.listdir(self.target_dir)\n",
        "\n",
        "    def __len__(self):\n",
        "        return len(self.list_files)\n",
        "\n",
        "    def __getitem__(self, index):\n",
        "        img_file = self.list_files[index]\n",
        "        img_file_target = self.list_files_target[index]\n",
        "        img_path = os.path.join(self.root_dir, img_file)\n",
        "        img_path_target = os.path.join(self.target_dir, img_file_target)\n",
        "       \n",
        "        input_image = np.array(Image.open(img_path))\n",
        "        target_image = np.array(Image.open(img_path_target))\n",
        "        \n",
        "\n",
        " #       augmentations = both_transform(image=input_image, image0=target_image)\n",
        "     \n",
        "\n",
        "     #   input_image = transform_only_input(image=input_image)[\"image\"]\n",
        "      #  target_image = transform_only_mask(image=target_image)[\"image\"]\n",
        "        input_image = transform_only_input(input_image)\n",
        "        target_image = transform_only_mask(target_image)\n",
        "\n",
        "\n",
        "\n",
        "        return input_image, target_image"
      ]
    },
    {
      "cell_type": "code",
      "execution_count": 35,
      "metadata": {
        "id": "WhtnamJ_UHjm"
      },
      "outputs": [],
      "source": [
        "\n",
        "\n",
        "TRAIN_DIR = \"/content/drive/MyDrive/DATA KHC/COARSE_PIC\"\n",
        "VAL_DIR = \"/content/drive/MyDrive/DATA KHC/FINE_PIC\"\n",
        "BATCH_SIZE = 26\n",
        "LEARNING_RATE = 1e-3\n",
        "NUM_WORKERS = 2\n",
        "NUM_EPOCHS = 100\n",
        "CHECKPOINT_DISC = \"disc3.pth.tar\"\n",
        "CHECKPOINT_GEN = \"gen3.pth.tar\"\n",
        "gen_weights = \"gen_weights3.pt.tar\"\n",
        "disc_weights = \"disc_weights3.pt.tar\"\n",
        "LOAD_MODEL=False\n",
        "SAVE_MODEL = True\n",
        "loss_disc = []\n",
        "loss_gen = []\n",
        "def train_fn(\n",
        "    disc, gen, loader, opt_disc, opt_gen, l1_loss, bce, g_scaler, d_scaler,\n",
        "learning_rate):\n",
        "    loop = tqdm(loader, leave=True)\n",
        "\n",
        "\n",
        "\n",
        "    for idx, (x, y) in enumerate(loop):\n",
        "        x = x.to(DEVICE)\n",
        "        y = y.to(DEVICE)\n",
        "\n",
        "        # Train Discriminator\n",
        "        with torch.cuda.amp.autocast():\n",
        "            y_fake = gen(x)\n",
        "            D_real = disc(x, y)\n",
        "            D_real_loss = bce(D_real, torch.ones_like(D_real))\n",
        "            D_fake = disc(x, y_fake.detach())\n",
        "            D_fake_loss = bce(D_fake, torch.zeros_like(D_fake))\n",
        "            D_loss = (D_real_loss + D_fake_loss) / 2\n",
        "            loss_disc.append(D_loss.cpu().detach().numpy())\n",
        "\n",
        "        disc.zero_grad()\n",
        "        d_scaler.scale(D_loss).backward()\n",
        "        d_scaler.step(opt_disc)\n",
        "        d_scaler.update()\n",
        "\n",
        "        # Train generator\n",
        "        with torch.cuda.amp.autocast():\n",
        "            D_fake = disc(x, y_fake)\n",
        "            G_fake_loss = bce(D_fake, torch.ones_like(D_fake))\n",
        "            L1 = l1_loss(y_fake, y) * 100\n",
        "            G_loss = G_fake_loss + L1\n",
        "            loss_gen.append(G_loss.cpu().detach().numpy())\n",
        "\n",
        "        opt_gen.zero_grad()\n",
        "        g_scaler.scale(G_loss).backward()\n",
        "        g_scaler.step(opt_gen)\n",
        "        g_scaler.update()\n",
        "\n",
        "        if idx % 10 == 0:\n",
        "            loop.set_postfix(\n",
        "                D_real=torch.sigmoid(D_real).mean().item(),\n",
        "                D_fake=torch.sigmoid(D_fake).mean().item(),\n",
        "            )\n",
        "\n",
        "\n",
        "def main():\n",
        "    disc = Discriminator(in_channels=3).to(DEVICE)\n",
        "    gen = Generator(in_channels=3, features=64).to(DEVICE)\n",
        "    opt_disc = optim.Adam(disc.parameters(), lr=LEARNING_RATE , betas=(0.5, 0.999),)\n",
        "    opt_gen = optim.Adam(gen.parameters(), lr=LEARNING_RATE , betas=(0.5, 0.999))\n",
        "    BCE = nn.BCEWithLogitsLoss()\n",
        "    L1_LOSS = nn.L1Loss()\n",
        "\n",
        "    if LOAD_MODEL:\n",
        "        load_checkpoint(\n",
        "            CHECKPOINT_GEN, gen, opt_gen, LEARNING_RATE,\n",
        "        )\n",
        "        load_checkpoint(\n",
        "            CHECKPOINT_DISC, disc, opt_disc, LEARNING_RATE,\n",
        "        )\n",
        "\n",
        "    train_dataset = MapDataset(root_dir=TRAIN_DIR,target_dir=VAL_DIR)\n",
        "    train_loader = DataLoader(\n",
        "        train_dataset,\n",
        "        batch_size=BATCH_SIZE,\n",
        "        shuffle=True,\n",
        "        num_workers=NUM_WORKERS,\n",
        "    )\n",
        "    g_scaler = torch.cuda.amp.GradScaler()\n",
        "    d_scaler = torch.cuda.amp.GradScaler()\n",
        "    val_dataset = MapDataset(root_dir=VAL_DIR,target_dir=VAL_DIR)\n",
        "    val_loader = DataLoader(val_dataset, batch_size=BATCH_SIZE, shuffle=False)\n",
        "\n",
        "    for epoch in range(NUM_EPOCHS):\n",
        "        train_fn(\n",
        "            disc, gen, train_loader, opt_disc, opt_gen, L1_LOSS, BCE, g_scaler, d_scaler,\n",
        "        LEARNING_RATE)\n",
        "\n",
        "        if SAVE_MODEL and epoch % 5 == 0:\n",
        "            torch.save(gen.state_dict(), gen_weights)\n",
        "            torch.save(disc.state_dict(),disc_weights)\n",
        "            save_checkpoint(gen, opt_gen, filename=CHECKPOINT_GEN)\n",
        "            save_checkpoint(disc, opt_disc, filename=CHECKPOINT_DISC)\n",
        "\n",
        "    #    save_some_examples(gen, val_loader, epoch, folder=\"evaluation\")\n"
      ]
    },
    {
      "cell_type": "code",
      "execution_count": 36,
      "metadata": {
        "id": "ZvpusRv7GS-m"
      },
      "outputs": [],
      "source": [
        "#torch.cuda.memory_summary(device=None, abbreviated=False)"
      ]
    },
    {
      "cell_type": "code",
      "execution_count": 37,
      "metadata": {
        "id": "QHVRfiNRbTmq"
      },
      "outputs": [],
      "source": [
        "if __name__ == \"__main__\":\n",
        "    dataset = MapDataset(TRAIN_DIR,VAL_DIR)\n",
        "\n",
        "    loader = DataLoader(dataset, batch_size=BATCH_SIZE)\n",
        "  #  for x, y in loader:\n",
        "    #    print(x.shape)\n",
        "    #    save_image(x, \"x.png\")\n",
        "    #    save_image(y, \"y.png\")\n",
        "    #    import sys\n",
        "    #    sys.exit()"
      ]
    },
    {
      "cell_type": "code",
      "execution_count": 38,
      "metadata": {
        "colab": {
          "base_uri": "https://localhost:8080/"
        },
        "id": "YXU69ko6yVy5",
        "outputId": "68728fe0-a792-4a1b-aade-b38e305d121c"
      },
      "outputs": [
        {
          "output_type": "execute_result",
          "data": {
            "text/plain": [
              "True"
            ]
          },
          "metadata": {},
          "execution_count": 38
        }
      ],
      "source": [
        "torch.cuda.is_available()"
      ]
    },
    {
      "cell_type": "code",
      "execution_count": 39,
      "metadata": {
        "colab": {
          "base_uri": "https://localhost:8080/"
        },
        "id": "XJtO1suJRbFb",
        "outputId": "7f139978-ae50-45ad-f28d-be91fea19b26"
      },
      "outputs": [
        {
          "output_type": "stream",
          "name": "stderr",
          "text": [
            "100%|██████████| 12/12 [00:12<00:00,  1.07s/it, D_fake=0.0341, D_real=0.991]\n"
          ]
        },
        {
          "output_type": "stream",
          "name": "stdout",
          "text": [
            "=> Saving checkpoint\n",
            "=> Saving checkpoint\n"
          ]
        },
        {
          "output_type": "stream",
          "name": "stderr",
          "text": [
            "100%|██████████| 12/12 [00:12<00:00,  1.07s/it, D_fake=0.00317, D_real=0.99]\n",
            "100%|██████████| 12/12 [00:12<00:00,  1.07s/it, D_fake=0.151, D_real=0.944]\n",
            "100%|██████████| 12/12 [00:12<00:00,  1.07s/it, D_fake=0.452, D_real=0.524]\n",
            "100%|██████████| 12/12 [00:12<00:00,  1.08s/it, D_fake=0.0906, D_real=0.534]\n",
            "100%|██████████| 12/12 [00:12<00:00,  1.08s/it, D_fake=0.291, D_real=0.855]\n"
          ]
        },
        {
          "output_type": "stream",
          "name": "stdout",
          "text": [
            "=> Saving checkpoint\n",
            "=> Saving checkpoint\n"
          ]
        },
        {
          "output_type": "stream",
          "name": "stderr",
          "text": [
            "100%|██████████| 12/12 [00:12<00:00,  1.08s/it, D_fake=0.0321, D_real=0.962]\n",
            "100%|██████████| 12/12 [00:12<00:00,  1.08s/it, D_fake=0.00241, D_real=0.937]\n",
            "100%|██████████| 12/12 [00:12<00:00,  1.08s/it, D_fake=0.0135, D_real=0.957]\n",
            "100%|██████████| 12/12 [00:12<00:00,  1.08s/it, D_fake=0.00973, D_real=0.973]\n",
            "100%|██████████| 12/12 [00:12<00:00,  1.08s/it, D_fake=0.00185, D_real=0.967]\n"
          ]
        },
        {
          "output_type": "stream",
          "name": "stdout",
          "text": [
            "=> Saving checkpoint\n",
            "=> Saving checkpoint\n"
          ]
        },
        {
          "output_type": "stream",
          "name": "stderr",
          "text": [
            "100%|██████████| 12/12 [00:12<00:00,  1.08s/it, D_fake=0.0012, D_real=0.977]\n",
            "100%|██████████| 12/12 [00:12<00:00,  1.08s/it, D_fake=0.00554, D_real=0.993]\n",
            "100%|██████████| 12/12 [00:12<00:00,  1.08s/it, D_fake=0.0154, D_real=0.993]\n",
            "100%|██████████| 12/12 [00:12<00:00,  1.08s/it, D_fake=0.00123, D_real=0.996]\n",
            "100%|██████████| 12/12 [00:12<00:00,  1.08s/it, D_fake=0.000124, D_real=0.987]\n"
          ]
        },
        {
          "output_type": "stream",
          "name": "stdout",
          "text": [
            "=> Saving checkpoint\n",
            "=> Saving checkpoint\n"
          ]
        },
        {
          "output_type": "stream",
          "name": "stderr",
          "text": [
            "100%|██████████| 12/12 [00:12<00:00,  1.08s/it, D_fake=0.00591, D_real=0.997]\n",
            "100%|██████████| 12/12 [00:12<00:00,  1.08s/it, D_fake=0.301, D_real=0.165]\n",
            "100%|██████████| 12/12 [00:12<00:00,  1.08s/it, D_fake=0.666, D_real=0.376]\n",
            "100%|██████████| 12/12 [00:12<00:00,  1.08s/it, D_fake=0.468, D_real=0.404]\n",
            "100%|██████████| 12/12 [00:12<00:00,  1.08s/it, D_fake=0.0908, D_real=0.721]\n"
          ]
        },
        {
          "output_type": "stream",
          "name": "stdout",
          "text": [
            "=> Saving checkpoint\n",
            "=> Saving checkpoint\n"
          ]
        },
        {
          "output_type": "stream",
          "name": "stderr",
          "text": [
            "100%|██████████| 12/12 [00:12<00:00,  1.08s/it, D_fake=0.0768, D_real=0.836]\n",
            "100%|██████████| 12/12 [00:12<00:00,  1.08s/it, D_fake=0.0412, D_real=0.783]\n",
            "100%|██████████| 12/12 [00:12<00:00,  1.08s/it, D_fake=0.0386, D_real=0.692]\n",
            "100%|██████████| 12/12 [00:12<00:00,  1.08s/it, D_fake=0.215, D_real=0.546]\n",
            "100%|██████████| 12/12 [00:12<00:00,  1.08s/it, D_fake=0.00682, D_real=0.902]\n"
          ]
        },
        {
          "output_type": "stream",
          "name": "stdout",
          "text": [
            "=> Saving checkpoint\n",
            "=> Saving checkpoint\n"
          ]
        },
        {
          "output_type": "stream",
          "name": "stderr",
          "text": [
            "100%|██████████| 12/12 [00:12<00:00,  1.08s/it, D_fake=0.114, D_real=0.866]\n",
            "100%|██████████| 12/12 [00:12<00:00,  1.08s/it, D_fake=0.0185, D_real=0.923]\n",
            "100%|██████████| 12/12 [00:12<00:00,  1.08s/it, D_fake=0.0136, D_real=0.957]\n",
            "100%|██████████| 12/12 [00:12<00:00,  1.08s/it, D_fake=0.0193, D_real=0.967]\n",
            "100%|██████████| 12/12 [00:12<00:00,  1.08s/it, D_fake=0.00548, D_real=0.986]\n"
          ]
        },
        {
          "output_type": "stream",
          "name": "stdout",
          "text": [
            "=> Saving checkpoint\n",
            "=> Saving checkpoint\n"
          ]
        },
        {
          "output_type": "stream",
          "name": "stderr",
          "text": [
            "100%|██████████| 12/12 [00:12<00:00,  1.08s/it, D_fake=0.00909, D_real=0.984]\n",
            "100%|██████████| 12/12 [00:12<00:00,  1.08s/it, D_fake=0.00683, D_real=0.988]\n",
            "100%|██████████| 12/12 [00:12<00:00,  1.08s/it, D_fake=0.00319, D_real=0.991]\n",
            "100%|██████████| 12/12 [00:12<00:00,  1.08s/it, D_fake=0.00647, D_real=0.991]\n",
            "100%|██████████| 12/12 [00:12<00:00,  1.08s/it, D_fake=0.00348, D_real=0.992]\n"
          ]
        },
        {
          "output_type": "stream",
          "name": "stdout",
          "text": [
            "=> Saving checkpoint\n",
            "=> Saving checkpoint\n"
          ]
        },
        {
          "output_type": "stream",
          "name": "stderr",
          "text": [
            "100%|██████████| 12/12 [00:12<00:00,  1.08s/it, D_fake=0.00554, D_real=0.993]\n",
            "100%|██████████| 12/12 [00:12<00:00,  1.08s/it, D_fake=0.00152, D_real=0.99]\n",
            "100%|██████████| 12/12 [00:12<00:00,  1.08s/it, D_fake=0.00389, D_real=0.996]\n",
            "100%|██████████| 12/12 [00:12<00:00,  1.08s/it, D_fake=0.00431, D_real=0.997]\n",
            "100%|██████████| 12/12 [00:12<00:00,  1.08s/it, D_fake=0.0064, D_real=0.996]\n"
          ]
        },
        {
          "output_type": "stream",
          "name": "stdout",
          "text": [
            "=> Saving checkpoint\n",
            "=> Saving checkpoint\n"
          ]
        },
        {
          "output_type": "stream",
          "name": "stderr",
          "text": [
            "100%|██████████| 12/12 [00:12<00:00,  1.08s/it, D_fake=0.00386, D_real=0.988]\n",
            "100%|██████████| 12/12 [00:12<00:00,  1.08s/it, D_fake=0.00299, D_real=0.998]\n",
            "100%|██████████| 12/12 [00:12<00:00,  1.08s/it, D_fake=0.00306, D_real=0.996]\n",
            "100%|██████████| 12/12 [00:12<00:00,  1.08s/it, D_fake=0.0148, D_real=0.939]\n",
            "100%|██████████| 12/12 [00:12<00:00,  1.08s/it, D_fake=0.00249, D_real=0.981]\n"
          ]
        },
        {
          "output_type": "stream",
          "name": "stdout",
          "text": [
            "=> Saving checkpoint\n",
            "=> Saving checkpoint\n"
          ]
        },
        {
          "output_type": "stream",
          "name": "stderr",
          "text": [
            "100%|██████████| 12/12 [00:12<00:00,  1.08s/it, D_fake=0.00548, D_real=0.996]\n",
            "100%|██████████| 12/12 [00:12<00:00,  1.08s/it, D_fake=0.00133, D_real=0.773]\n",
            "100%|██████████| 12/12 [00:12<00:00,  1.08s/it, D_fake=0.181, D_real=0.575]\n",
            "100%|██████████| 12/12 [00:12<00:00,  1.08s/it, D_fake=0.421, D_real=0.575]\n",
            "100%|██████████| 12/12 [00:12<00:00,  1.08s/it, D_fake=0.00118, D_real=0.856]\n"
          ]
        },
        {
          "output_type": "stream",
          "name": "stdout",
          "text": [
            "=> Saving checkpoint\n",
            "=> Saving checkpoint\n"
          ]
        },
        {
          "output_type": "stream",
          "name": "stderr",
          "text": [
            "100%|██████████| 12/12 [00:12<00:00,  1.08s/it, D_fake=0.021, D_real=0.969]\n",
            "100%|██████████| 12/12 [00:12<00:00,  1.08s/it, D_fake=0.378, D_real=0.415]\n",
            "100%|██████████| 12/12 [00:12<00:00,  1.08s/it, D_fake=0.102, D_real=0.785]\n",
            "100%|██████████| 12/12 [00:12<00:00,  1.08s/it, D_fake=0.0896, D_real=0.779]\n",
            "100%|██████████| 12/12 [00:12<00:00,  1.08s/it, D_fake=0.022, D_real=0.913]\n"
          ]
        },
        {
          "output_type": "stream",
          "name": "stdout",
          "text": [
            "=> Saving checkpoint\n",
            "=> Saving checkpoint\n"
          ]
        },
        {
          "output_type": "stream",
          "name": "stderr",
          "text": [
            "100%|██████████| 12/12 [00:12<00:00,  1.08s/it, D_fake=0.0229, D_real=0.969]\n",
            "100%|██████████| 12/12 [00:12<00:00,  1.08s/it, D_fake=0.0569, D_real=0.89]\n",
            "100%|██████████| 12/12 [00:12<00:00,  1.08s/it, D_fake=0.249, D_real=0.195]\n",
            "100%|██████████| 12/12 [00:12<00:00,  1.08s/it, D_fake=0.0613, D_real=0.91]\n",
            "100%|██████████| 12/12 [00:12<00:00,  1.08s/it, D_fake=0.022, D_real=0.926]\n"
          ]
        },
        {
          "output_type": "stream",
          "name": "stdout",
          "text": [
            "=> Saving checkpoint\n",
            "=> Saving checkpoint\n"
          ]
        },
        {
          "output_type": "stream",
          "name": "stderr",
          "text": [
            "100%|██████████| 12/12 [00:12<00:00,  1.08s/it, D_fake=0.0227, D_real=0.986]\n",
            "100%|██████████| 12/12 [00:12<00:00,  1.08s/it, D_fake=0.02, D_real=0.98]\n",
            "100%|██████████| 12/12 [00:12<00:00,  1.08s/it, D_fake=0.0134, D_real=0.975]\n",
            "100%|██████████| 12/12 [00:12<00:00,  1.08s/it, D_fake=0.014, D_real=0.996]\n",
            "100%|██████████| 12/12 [00:12<00:00,  1.08s/it, D_fake=0.0103, D_real=0.992]\n"
          ]
        },
        {
          "output_type": "stream",
          "name": "stdout",
          "text": [
            "=> Saving checkpoint\n",
            "=> Saving checkpoint\n"
          ]
        },
        {
          "output_type": "stream",
          "name": "stderr",
          "text": [
            "100%|██████████| 12/12 [00:12<00:00,  1.08s/it, D_fake=0.00806, D_real=0.992]\n",
            "100%|██████████| 12/12 [00:12<00:00,  1.08s/it, D_fake=0.000973, D_real=0.985]\n",
            "100%|██████████| 12/12 [00:12<00:00,  1.08s/it, D_fake=0.0377, D_real=0.971]\n",
            "100%|██████████| 12/12 [00:12<00:00,  1.08s/it, D_fake=0.0374, D_real=0.956]\n",
            "100%|██████████| 12/12 [00:12<00:00,  1.08s/it, D_fake=0.0375, D_real=0.938]\n"
          ]
        },
        {
          "output_type": "stream",
          "name": "stdout",
          "text": [
            "=> Saving checkpoint\n",
            "=> Saving checkpoint\n"
          ]
        },
        {
          "output_type": "stream",
          "name": "stderr",
          "text": [
            "100%|██████████| 12/12 [00:12<00:00,  1.08s/it, D_fake=0.0192, D_real=0.985]\n",
            "100%|██████████| 12/12 [00:12<00:00,  1.08s/it, D_fake=0.00959, D_real=0.973]\n",
            "100%|██████████| 12/12 [00:12<00:00,  1.08s/it, D_fake=0.00486, D_real=0.977]\n",
            "100%|██████████| 12/12 [00:12<00:00,  1.08s/it, D_fake=0.0272, D_real=0.991]\n",
            "100%|██████████| 12/12 [00:12<00:00,  1.08s/it, D_fake=0.00716, D_real=0.991]\n"
          ]
        },
        {
          "output_type": "stream",
          "name": "stdout",
          "text": [
            "=> Saving checkpoint\n",
            "=> Saving checkpoint\n"
          ]
        },
        {
          "output_type": "stream",
          "name": "stderr",
          "text": [
            "100%|██████████| 12/12 [00:12<00:00,  1.08s/it, D_fake=0.00629, D_real=0.995]\n",
            "100%|██████████| 12/12 [00:12<00:00,  1.08s/it, D_fake=0.0108, D_real=0.992]\n",
            "100%|██████████| 12/12 [00:12<00:00,  1.08s/it, D_fake=0.165, D_real=0.728]\n",
            "100%|██████████| 12/12 [00:12<00:00,  1.08s/it, D_fake=0.037, D_real=0.952]\n",
            "100%|██████████| 12/12 [00:12<00:00,  1.08s/it, D_fake=0.0179, D_real=0.964]\n"
          ]
        },
        {
          "output_type": "stream",
          "name": "stdout",
          "text": [
            "=> Saving checkpoint\n",
            "=> Saving checkpoint\n"
          ]
        },
        {
          "output_type": "stream",
          "name": "stderr",
          "text": [
            "100%|██████████| 12/12 [00:12<00:00,  1.08s/it, D_fake=0.0119, D_real=0.984]\n",
            "100%|██████████| 12/12 [00:12<00:00,  1.08s/it, D_fake=0.00972, D_real=0.989]\n",
            "100%|██████████| 12/12 [00:12<00:00,  1.08s/it, D_fake=0.00863, D_real=0.979]\n",
            "100%|██████████| 12/12 [00:12<00:00,  1.08s/it, D_fake=0.00318, D_real=0.995]\n",
            "100%|██████████| 12/12 [00:12<00:00,  1.08s/it, D_fake=0.00675, D_real=0.997]\n"
          ]
        },
        {
          "output_type": "stream",
          "name": "stdout",
          "text": [
            "=> Saving checkpoint\n",
            "=> Saving checkpoint\n"
          ]
        },
        {
          "output_type": "stream",
          "name": "stderr",
          "text": [
            "100%|██████████| 12/12 [00:12<00:00,  1.08s/it, D_fake=0.00499, D_real=0.996]\n",
            "100%|██████████| 12/12 [00:12<00:00,  1.08s/it, D_fake=0.0046, D_real=0.997]\n",
            "100%|██████████| 12/12 [00:12<00:00,  1.08s/it, D_fake=0.00447, D_real=0.995]\n",
            "100%|██████████| 12/12 [00:12<00:00,  1.08s/it, D_fake=0.00263, D_real=0.988]\n",
            "100%|██████████| 12/12 [00:12<00:00,  1.08s/it, D_fake=0.00491, D_real=0.989]\n"
          ]
        },
        {
          "output_type": "stream",
          "name": "stdout",
          "text": [
            "=> Saving checkpoint\n",
            "=> Saving checkpoint\n"
          ]
        },
        {
          "output_type": "stream",
          "name": "stderr",
          "text": [
            "100%|██████████| 12/12 [00:12<00:00,  1.08s/it, D_fake=0.00678, D_real=0.996]\n",
            "100%|██████████| 12/12 [00:12<00:00,  1.08s/it, D_fake=0.00485, D_real=0.996]\n",
            "100%|██████████| 12/12 [00:12<00:00,  1.08s/it, D_fake=0.00332, D_real=0.996]\n",
            "100%|██████████| 12/12 [00:12<00:00,  1.08s/it, D_fake=0.00183, D_real=0.995]\n",
            "100%|██████████| 12/12 [00:12<00:00,  1.08s/it, D_fake=0.00111, D_real=0.998]\n"
          ]
        },
        {
          "output_type": "stream",
          "name": "stdout",
          "text": [
            "=> Saving checkpoint\n",
            "=> Saving checkpoint\n"
          ]
        },
        {
          "output_type": "stream",
          "name": "stderr",
          "text": [
            "100%|██████████| 12/12 [00:12<00:00,  1.08s/it, D_fake=0.000527, D_real=0.999]\n",
            "100%|██████████| 12/12 [00:12<00:00,  1.08s/it, D_fake=0.00115, D_real=0.999]\n",
            "100%|██████████| 12/12 [00:12<00:00,  1.08s/it, D_fake=0.00206, D_real=0.999]\n",
            "100%|██████████| 12/12 [00:12<00:00,  1.08s/it, D_fake=0.00166, D_real=0.999]\n"
          ]
        }
      ],
      "source": [
        "if __name__ == \"__main__\":\n",
        "    main()"
      ]
    },
    {
      "cell_type": "code",
      "source": [
        "from google.colab import files\n",
        "files.download('/content/gen_weights3.pt.tar')\n",
        "files.download('/content/gen3.pth.tar')\n",
        "files.download('/content/disc_weights3.pt.tar')\n",
        "files.download('/content/disc3.pth.tar')"
      ],
      "metadata": {
        "colab": {
          "base_uri": "https://localhost:8080/",
          "height": 16
        },
        "id": "Rpw6WOClbi3P",
        "outputId": "57ac36ea-258e-4a19-e875-d01ae3c0654b"
      },
      "execution_count": 40,
      "outputs": [
        {
          "output_type": "display_data",
          "data": {
            "text/plain": [
              "<IPython.core.display.Javascript object>"
            ],
            "application/javascript": [
              "\n",
              "    async function download(id, filename, size) {\n",
              "      if (!google.colab.kernel.accessAllowed) {\n",
              "        return;\n",
              "      }\n",
              "      const div = document.createElement('div');\n",
              "      const label = document.createElement('label');\n",
              "      label.textContent = `Downloading \"${filename}\": `;\n",
              "      div.appendChild(label);\n",
              "      const progress = document.createElement('progress');\n",
              "      progress.max = size;\n",
              "      div.appendChild(progress);\n",
              "      document.body.appendChild(div);\n",
              "\n",
              "      const buffers = [];\n",
              "      let downloaded = 0;\n",
              "\n",
              "      const channel = await google.colab.kernel.comms.open(id);\n",
              "      // Send a message to notify the kernel that we're ready.\n",
              "      channel.send({})\n",
              "\n",
              "      for await (const message of channel.messages) {\n",
              "        // Send a message to notify the kernel that we're ready.\n",
              "        channel.send({})\n",
              "        if (message.buffers) {\n",
              "          for (const buffer of message.buffers) {\n",
              "            buffers.push(buffer);\n",
              "            downloaded += buffer.byteLength;\n",
              "            progress.value = downloaded;\n",
              "          }\n",
              "        }\n",
              "      }\n",
              "      const blob = new Blob(buffers, {type: 'application/binary'});\n",
              "      const a = document.createElement('a');\n",
              "      a.href = window.URL.createObjectURL(blob);\n",
              "      a.download = filename;\n",
              "      div.appendChild(a);\n",
              "      a.click();\n",
              "      div.remove();\n",
              "    }\n",
              "  "
            ]
          },
          "metadata": {}
        },
        {
          "output_type": "display_data",
          "data": {
            "text/plain": [
              "<IPython.core.display.Javascript object>"
            ],
            "application/javascript": [
              "download(\"download_610e3c80-6f63-45fd-bf2f-55cd62d3ef76\", \"gen_weights3.pt.tar\", 67124009)"
            ]
          },
          "metadata": {}
        },
        {
          "output_type": "display_data",
          "data": {
            "text/plain": [
              "<IPython.core.display.Javascript object>"
            ],
            "application/javascript": [
              "\n",
              "    async function download(id, filename, size) {\n",
              "      if (!google.colab.kernel.accessAllowed) {\n",
              "        return;\n",
              "      }\n",
              "      const div = document.createElement('div');\n",
              "      const label = document.createElement('label');\n",
              "      label.textContent = `Downloading \"${filename}\": `;\n",
              "      div.appendChild(label);\n",
              "      const progress = document.createElement('progress');\n",
              "      progress.max = size;\n",
              "      div.appendChild(progress);\n",
              "      document.body.appendChild(div);\n",
              "\n",
              "      const buffers = [];\n",
              "      let downloaded = 0;\n",
              "\n",
              "      const channel = await google.colab.kernel.comms.open(id);\n",
              "      // Send a message to notify the kernel that we're ready.\n",
              "      channel.send({})\n",
              "\n",
              "      for await (const message of channel.messages) {\n",
              "        // Send a message to notify the kernel that we're ready.\n",
              "        channel.send({})\n",
              "        if (message.buffers) {\n",
              "          for (const buffer of message.buffers) {\n",
              "            buffers.push(buffer);\n",
              "            downloaded += buffer.byteLength;\n",
              "            progress.value = downloaded;\n",
              "          }\n",
              "        }\n",
              "      }\n",
              "      const blob = new Blob(buffers, {type: 'application/binary'});\n",
              "      const a = document.createElement('a');\n",
              "      a.href = window.URL.createObjectURL(blob);\n",
              "      a.download = filename;\n",
              "      div.appendChild(a);\n",
              "      a.click();\n",
              "      div.remove();\n",
              "    }\n",
              "  "
            ]
          },
          "metadata": {}
        },
        {
          "output_type": "display_data",
          "data": {
            "text/plain": [
              "<IPython.core.display.Javascript object>"
            ],
            "application/javascript": [
              "download(\"download_147b7a3f-e8fe-42b8-85b2-69eff0932f5e\", \"gen3.pth.tar\", 201263909)"
            ]
          },
          "metadata": {}
        },
        {
          "output_type": "display_data",
          "data": {
            "text/plain": [
              "<IPython.core.display.Javascript object>"
            ],
            "application/javascript": [
              "\n",
              "    async function download(id, filename, size) {\n",
              "      if (!google.colab.kernel.accessAllowed) {\n",
              "        return;\n",
              "      }\n",
              "      const div = document.createElement('div');\n",
              "      const label = document.createElement('label');\n",
              "      label.textContent = `Downloading \"${filename}\": `;\n",
              "      div.appendChild(label);\n",
              "      const progress = document.createElement('progress');\n",
              "      progress.max = size;\n",
              "      div.appendChild(progress);\n",
              "      document.body.appendChild(div);\n",
              "\n",
              "      const buffers = [];\n",
              "      let downloaded = 0;\n",
              "\n",
              "      const channel = await google.colab.kernel.comms.open(id);\n",
              "      // Send a message to notify the kernel that we're ready.\n",
              "      channel.send({})\n",
              "\n",
              "      for await (const message of channel.messages) {\n",
              "        // Send a message to notify the kernel that we're ready.\n",
              "        channel.send({})\n",
              "        if (message.buffers) {\n",
              "          for (const buffer of message.buffers) {\n",
              "            buffers.push(buffer);\n",
              "            downloaded += buffer.byteLength;\n",
              "            progress.value = downloaded;\n",
              "          }\n",
              "        }\n",
              "      }\n",
              "      const blob = new Blob(buffers, {type: 'application/binary'});\n",
              "      const a = document.createElement('a');\n",
              "      a.href = window.URL.createObjectURL(blob);\n",
              "      a.download = filename;\n",
              "      div.appendChild(a);\n",
              "      a.click();\n",
              "      div.remove();\n",
              "    }\n",
              "  "
            ]
          },
          "metadata": {}
        },
        {
          "output_type": "display_data",
          "data": {
            "text/plain": [
              "<IPython.core.display.Javascript object>"
            ],
            "application/javascript": [
              "download(\"download_1f09ee8b-4533-4f85-a14d-eb05d195e8a4\", \"disc_weights3.pt.tar\", 2831395)"
            ]
          },
          "metadata": {}
        },
        {
          "output_type": "display_data",
          "data": {
            "text/plain": [
              "<IPython.core.display.Javascript object>"
            ],
            "application/javascript": [
              "\n",
              "    async function download(id, filename, size) {\n",
              "      if (!google.colab.kernel.accessAllowed) {\n",
              "        return;\n",
              "      }\n",
              "      const div = document.createElement('div');\n",
              "      const label = document.createElement('label');\n",
              "      label.textContent = `Downloading \"${filename}\": `;\n",
              "      div.appendChild(label);\n",
              "      const progress = document.createElement('progress');\n",
              "      progress.max = size;\n",
              "      div.appendChild(progress);\n",
              "      document.body.appendChild(div);\n",
              "\n",
              "      const buffers = [];\n",
              "      let downloaded = 0;\n",
              "\n",
              "      const channel = await google.colab.kernel.comms.open(id);\n",
              "      // Send a message to notify the kernel that we're ready.\n",
              "      channel.send({})\n",
              "\n",
              "      for await (const message of channel.messages) {\n",
              "        // Send a message to notify the kernel that we're ready.\n",
              "        channel.send({})\n",
              "        if (message.buffers) {\n",
              "          for (const buffer of message.buffers) {\n",
              "            buffers.push(buffer);\n",
              "            downloaded += buffer.byteLength;\n",
              "            progress.value = downloaded;\n",
              "          }\n",
              "        }\n",
              "      }\n",
              "      const blob = new Blob(buffers, {type: 'application/binary'});\n",
              "      const a = document.createElement('a');\n",
              "      a.href = window.URL.createObjectURL(blob);\n",
              "      a.download = filename;\n",
              "      div.appendChild(a);\n",
              "      a.click();\n",
              "      div.remove();\n",
              "    }\n",
              "  "
            ]
          },
          "metadata": {}
        },
        {
          "output_type": "display_data",
          "data": {
            "text/plain": [
              "<IPython.core.display.Javascript object>"
            ],
            "application/javascript": [
              "download(\"download_e7a55147-6b0c-498f-9cd0-d0044c707c87\", \"disc3.pth.tar\", 8473813)"
            ]
          },
          "metadata": {}
        }
      ]
    },
    {
      "cell_type": "markdown",
      "metadata": {
        "id": "MjoSlUV0dVX6"
      },
      "source": [
        "# Testing"
      ]
    },
    {
      "cell_type": "code",
      "execution_count": 41,
      "metadata": {
        "id": "z9AMG2pp623F"
      },
      "outputs": [],
      "source": [
        "def test_discriminator():\n",
        "    x = torch.randn((1, 3, 80, 640))\n",
        "    y = torch.randn((1, 3, 80, 640))\n",
        "    model = Discriminator(in_channels=3)\n",
        "    preds = model(x, y)\n",
        "    print(model)\n",
        "    print(preds.shape)"
      ]
    },
    {
      "cell_type": "code",
      "execution_count": 42,
      "metadata": {
        "id": "rSw9-Tsf61JP"
      },
      "outputs": [],
      "source": [
        "def test_generator(picture, have_pic = True):\n",
        "  model = Generator(in_channels=3, features=64)\n",
        "  if have_pic:\n",
        "      preds = model(picture)\n",
        "  else:\n",
        "    x = torch.randn((1, 3, 80, 640))\n",
        "    preds = model(x)\n",
        "  return preds"
      ]
    },
    {
      "cell_type": "code",
      "execution_count": 43,
      "metadata": {
        "id": "l-HMj4D7YItg"
      },
      "outputs": [],
      "source": [
        "generator = Generator(in_channels=3, features=64).to(DEVICE)\n",
        "opt_gen = optim.Adam(generator.parameters(), lr=LEARNING_RATE , betas=(0.5, 0.999))\n"
      ]
    },
    {
      "cell_type": "code",
      "execution_count": 44,
      "metadata": {
        "id": "pNumWovgB8R_",
        "colab": {
          "base_uri": "https://localhost:8080/"
        },
        "outputId": "3fc27334-06e7-4d1e-d1f4-a0c268c836f4"
      },
      "outputs": [
        {
          "output_type": "stream",
          "name": "stdout",
          "text": [
            "=> Loading checkpoint\n"
          ]
        }
      ],
      "source": [
        "def load_checkpoint(checkpoint_file, model, optimizer, lr):\n",
        "    print(\"=> Loading checkpoint\")\n",
        "    checkpoint = torch.load(checkpoint_file, map_location=DEVICE)\n",
        "    model.load_state_dict(checkpoint[\"state_dict\"])\n",
        "    optimizer.load_state_dict(checkpoint[\"optimizer\"])\n",
        "\n",
        "    # If we don't do this then it will just have learning rate of old checkpoint\n",
        "    # and it will lead to many hours of debugging \\:\n",
        "    for param_group in optimizer.param_groups:\n",
        "        param_group[\"lr\"] = lr\n",
        "    return model\n",
        "\n",
        "gen = load_checkpoint('/content/gen3.pth.tar',generator,opt_gen,LEARNING_RATE)"
      ]
    },
    {
      "cell_type": "code",
      "execution_count": 48,
      "metadata": {
        "id": "SfQJVq-f6xPF",
        "colab": {
          "base_uri": "https://localhost:8080/"
        },
        "outputId": "f79b2dd4-58ae-4b0f-dd55-d76c5cf7fca8"
      },
      "outputs": [
        {
          "output_type": "stream",
          "name": "stdout",
          "text": [
            "Metric is 0.1154834982\n"
          ]
        }
      ],
      "source": [
        "import glob\n",
        "\n",
        "\n",
        "inputs = glob.glob('/content/drive/MyDrive/DATA KHC/coarse' + '/*.jpg')\n",
        "outputs = glob.glob('/content/drive/MyDrive/DATA KHC/fine' + '/*.jpg')\n",
        "for file,file2 in zip(inputs,outputs):\n",
        "  # print(file)\n",
        "   input_image = np.array(Image.open(file))\n",
        "   target_image = np.array(Image.open(file2))\n",
        "   target_image = np.resize(target_image,(64,128,3))\n",
        "   t1 = transform_only_input(input_image)\n",
        "   t1 = t1.unsqueeze(dim=0)\n",
        "   preds = test_generator(t1)\n",
        "\n",
        "   invTrans = transforms.Compose([ transforms.Normalize(mean = [ 0., 0., 0. ],\n",
        "                                                            std = [ 1/0.5, 1/0.5, 1/0.5 ]),\n",
        "                                        transforms.Normalize(mean = [- 0.5,- 0.5, -0.5 ],\n",
        "                                                            std = [ 1., 1., 1. ]),\n",
        "                                      ])\n",
        "\n",
        "   inv_tensor = invTrans(preds)\n",
        "\n",
        "   ten = inv_tensor.cpu().detach().numpy()\n",
        "   score = []\n",
        "   for i in range(3):\n",
        "          score.append((np.linalg.norm(target_image[:,:,i] - ten[0][i,:,:]))/np.linalg.norm(target_image[:,:,i]))\n",
        "\n",
        "\n",
        " \n",
        "\n",
        "print('Metric is',np.array(score).mean())\n",
        "\n"
      ]
    },
    {
      "cell_type": "markdown",
      "metadata": {
        "id": "7lgLIqusvL58"
      },
      "source": [
        ""
      ]
    }
  ],
  "metadata": {
    "colab": {
      "collapsed_sections": [],
      "name": "Reconstruction_of_fine_grid_with_GAN_KH.ipynb\"",
      "provenance": [],
      "machine_shape": "hm"
    },
    "kernelspec": {
      "display_name": "Python 3",
      "name": "python3"
    },
    "language_info": {
      "name": "python"
    },
    "accelerator": "GPU"
  },
  "nbformat": 4,
  "nbformat_minor": 0
}