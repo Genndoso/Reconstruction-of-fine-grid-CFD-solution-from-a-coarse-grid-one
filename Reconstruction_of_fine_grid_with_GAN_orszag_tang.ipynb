{
  "cells": [
    {
      "cell_type": "code",
      "execution_count": 2,
      "metadata": {
        "colab": {
          "base_uri": "https://localhost:8080/"
        },
        "id": "p1UprMbLuyAk",
        "outputId": "c78374e5-079b-437f-e345-af1bb10f2300"
      },
      "outputs": [
        {
          "output_type": "stream",
          "name": "stdout",
          "text": [
            "Random Seed:  999\n"
          ]
        }
      ],
      "source": [
        "import os\n",
        "import random\n",
        "import torch\n",
        "import torch.nn as nn\n",
        "import torch.nn.parallel\n",
        "import torch.backends.cudnn as cudnn\n",
        "import torch.optim as optim\n",
        "import torch.utils.data\n",
        "import torchvision.datasets as dset\n",
        "import torchvision.transforms as transforms\n",
        "import torchvision.utils as vutils\n",
        "import numpy as np\n",
        "import matplotlib.pyplot as plt\n",
        "import matplotlib.animation as animation\n",
        "from IPython.display import HTML\n",
        "import os\n",
        "from PIL import Image\n",
        "from torch.utils.data import Dataset, DataLoader\n",
        "from torchvision.utils import save_image\n",
        "import torchvision.transforms as transforms\n",
        "from tqdm import tqdm\n",
        "# Set random seed for reproducibility\n",
        "manualSeed = 999\n",
        "#manualSeed = random.randint(1, 10000) # use if you want new results\n",
        "print(\"Random Seed: \", manualSeed)\n",
        "random.seed(manualSeed)\n",
        "torch.manual_seed(manualSeed)\n",
        "import netCDF4 as nc\n",
        "import scipy.io as sio\n",
        "import pandas as pd\n",
        "import imageio"
      ]
    },
    {
      "cell_type": "code",
      "source": [
        "from google.colab import drive\n",
        "drive.mount('/content/drive')"
      ],
      "metadata": {
        "colab": {
          "base_uri": "https://localhost:8080/"
        },
        "id": "0ltjXEemSlbU",
        "outputId": "e3df634a-4fa2-47b2-d11b-b55fbda53834"
      },
      "execution_count": 3,
      "outputs": [
        {
          "output_type": "stream",
          "name": "stdout",
          "text": [
            "Mounted at /content/drive\n"
          ]
        }
      ]
    },
    {
      "cell_type": "code",
      "source": [
        ""
      ],
      "metadata": {
        "id": "AjRqAzt1UQ2c"
      },
      "execution_count": 3,
      "outputs": []
    },
    {
      "cell_type": "code",
      "source": [
        "for i in range(0,80):\n",
        "  for k in range(0,2):\n",
        "    if i < 10:\n",
        "\n",
        "      dat1 = pd.read_csv(f'/content/drive/MyDrive/DATA/coarse_pandas/OrszagTang-coarse-grid-param{k}-idx-0000{i}-time-idx-{i}.csv')\n",
        "    else:\n",
        "      dat1 = pd.read_csv(f'/content/drive/MyDrive/DATA/coarse_pandas/OrszagTang-coarse-grid-param{k}-idx-000{i}-time-idx-{i}.csv')\n",
        "    dat1 = dat1.drop(columns=['Unnamed: 0','rho'])\n",
        "    data1 = np.array(dat1)\n",
        "    a = data1.reshape(200,200,3)\n",
        "    imageio.imwrite(f'/content/drive/MyDrive/coarse_pic//OrszagTang-coarse-grid-param{k}-idx-00000-time-idx-{i}.jpg',a)\n",
        "   # plt.savefig(f'/content/drive/MyDrive/coarse_pic//OrszagTang-coarse-grid-param{k}-idx-00000-time-idx-{i}.jpg',a)"
      ],
      "metadata": {
        "id": "-1tsgWm4_8G4"
      },
      "execution_count": null,
      "outputs": []
    },
    {
      "cell_type": "code",
      "source": [
        "for i in range(0,80):\n",
        "  for k in range(0,2):\n",
        "    if i < 10:\n",
        "\n",
        "      dat1 = pd.read_csv(f'/content/drive/MyDrive/DATA/fine_pandas/OrszagTang-fine-grid-param{k}-idx-0000{i}-time-idx-{i}.csv')\n",
        "    else:\n",
        "      dat1 = pd.read_csv(f'/content/drive/MyDrive/DATA/fine_pandas/OrszagTang-fine-grid-param{k}-idx-000{i}-time-idx-{i}.csv')\n",
        "    dat1 = dat1.drop(columns=['Unnamed: 0','rho'])\n",
        "    data1 = np.array(dat1)\n",
        "    a = data1.reshape(400,400,3)\n",
        "    new_a = np.resize(a,(200,200,3))\n",
        "    imageio.imwrite(f'/content/drive/MyDrive/fine_pic//OrszagTang-fine-grid-param{k}-idx-00000-time-idx-{i}.jpg',new_a)\n",
        "  #  plt.savefig(f'/content/drive/MyDrive/fine_pic//OrszagTang-fine-grid-param{k}-idx-00000-time-idx-{i}.jpg')"
      ],
      "metadata": {
        "id": "F17m2b27YMO9"
      },
      "execution_count": null,
      "outputs": []
    },
    {
      "cell_type": "code",
      "source": [
        "new_image = np.resize(a,(200,200,3))"
      ],
      "metadata": {
        "id": "q379ulFee89p"
      },
      "execution_count": 32,
      "outputs": []
    },
    {
      "cell_type": "code",
      "source": [
        "#a = data1.reshape(400,400,3)\n",
        "plt.imshow(new_image)"
      ],
      "metadata": {
        "colab": {
          "base_uri": "https://localhost:8080/",
          "height": 303
        },
        "id": "pSj5e_CNASMs",
        "outputId": "aa3fc29a-4413-463d-8a7c-0394a964c5e1"
      },
      "execution_count": 33,
      "outputs": [
        {
          "output_type": "stream",
          "name": "stderr",
          "text": [
            "WARNING:matplotlib.image:Clipping input data to the valid range for imshow with RGB data ([0..1] for floats or [0..255] for integers).\n"
          ]
        },
        {
          "output_type": "execute_result",
          "data": {
            "text/plain": [
              "<matplotlib.image.AxesImage at 0x7efe70e90d10>"
            ]
          },
          "metadata": {},
          "execution_count": 33
        },
        {
          "output_type": "display_data",
          "data": {
            "text/plain": [
              "<Figure size 432x288 with 1 Axes>"
            ],
            "image/png": "[encoded data removed]"
          },
          "metadata": {
            "needs_background": "light"
          }
        }
      ]
    },
    {
      "cell_type": "code",
      "source": [
        "import zipfile\n",
        "#file_location = '/content/drive/MyDrive/orszag.zip'\n",
        "!unzip -u \"/content/drive/MyDrive/orszag.zip\" -d \"/content/drive/My Drive/DATA\""
      ],
      "metadata": {
        "colab": {
          "base_uri": "https://localhost:8080/"
        },
        "id": "dQdhzCpb9L1p",
        "outputId": "3dd8d8de-41b9-4a52-aa51-f68812421961"
      },
      "execution_count": 34,
      "outputs": [
        {
          "output_type": "stream",
          "name": "stdout",
          "text": [
            "Archive:  /content/drive/MyDrive/orszag.zip\n"
          ]
        }
      ]
    },
    {
      "cell_type": "code",
      "execution_count": 36,
      "metadata": {
        "id": "F-CYyCKuW7lN"
      },
      "outputs": [],
      "source": [
        "DEVICE = \"cuda\" if torch.cuda.is_available() else \"cpu\""
      ]
    },
    {
      "cell_type": "markdown",
      "source": [
        ""
      ],
      "metadata": {
        "id": "f2nDRl4tcsCl"
      }
    },
    {
      "cell_type": "code",
      "execution_count": 37,
      "metadata": {
        "id": "AMbxL3bvW0lU"
      },
      "outputs": [],
      "source": [
        "def save_some_examples(gen, val_loader, epoch, folder):\n",
        "    x, y = next(iter(val_loader))\n",
        "    x, y = x.to(DEVICE), y.to(DEVICE)\n",
        "    gen.eval()\n",
        "    with torch.no_grad():\n",
        "        y_fake = gen(x)\n",
        "        y_fake = y_fake * 0.5 + 0.5  # remove normalization#\n",
        "        save_image(y_fake, folder + f\"/y_gen_{epoch}.png\")\n",
        "        save_image(x * 0.5 + 0.5, folder + f\"/input_{epoch}.png\")\n",
        "        if epoch == 1:\n",
        "            save_image(y * 0.5 + 0.5, folder + f\"/label_{epoch}.png\")\n",
        "    gen.train()\n",
        "\n",
        "\n",
        "def save_checkpoint(model, optimizer, filename=\"my_checkpoint.pth.tar\"):\n",
        "    print(\"=> Saving checkpoint\")\n",
        "    checkpoint = {\n",
        "        \"state_dict\": model.state_dict(),\n",
        "        \"optimizer\": optimizer.state_dict(),\n",
        "    }\n",
        "    torch.save(checkpoint, filename)\n",
        "\n",
        "\n",
        "def load_checkpoint(checkpoint_file, model, optimizer, lr):\n",
        "    print(\"=> Loading checkpoint\")\n",
        "    checkpoint = torch.load(checkpoint_file, map_location=DEVICE)\n",
        "    model.load_state_dict(checkpoint[\"state_dict\"])\n",
        "    optimizer.load_state_dict(checkpoint[\"optimizer\"])\n",
        "\n",
        "    # If we don't do this then it will just have learning rate of old checkpoint\n",
        "    # and it will lead to many hours of debugging \\:\n",
        "    for param_group in optimizer.param_groups:\n",
        "        param_group[\"lr\"] = lr"
      ]
    },
    {
      "cell_type": "code",
      "execution_count": 38,
      "metadata": {
        "id": "i5LfJ4OfO7Wz"
      },
      "outputs": [],
      "source": [
        "transform_only_input = transforms.Compose(\n",
        "    [transforms.ToPILImage(),\n",
        "     transforms.ToTensor(),\n",
        "      #  transforms.RandomHorizontalFlip(p=0.5),\n",
        "     #   transforms.ColorJitter(),\n",
        "        transforms.Normalize(mean=[0.5, 0.5, 0.5], std=[0.5, 0.5, 0.5]),\n",
        "     \n",
        "    ]\n",
        ")\n",
        "\n",
        "transform_only_mask = transforms.Compose(\n",
        "    [transforms.ToPILImage(),\n",
        "     transforms.ToTensor(),\n",
        "        transforms.Normalize(mean=[0.5, 0.5, 0.5], std=[0.5, 0.5, 0.5]),\n",
        "        \n",
        "    \n",
        "    ]\n",
        ")"
      ]
    },
    {
      "cell_type": "markdown",
      "metadata": {
        "id": "pU1NLtDvO730"
      },
      "source": [
        "# Model initiation"
      ]
    },
    {
      "cell_type": "code",
      "execution_count": 39,
      "metadata": {
        "id": "mtaGu-mOHHZl"
      },
      "outputs": [],
      "source": [
        "import torch\n",
        "import torch.nn as nn\n",
        "\n",
        "\n",
        "class Block(nn.Module):\n",
        "    def __init__(self, in_channels, out_channels, down=True, act=\"relu\", use_dropout=False):\n",
        "        super(Block, self).__init__()\n",
        "        self.conv = nn.Sequential(\n",
        "            nn.Conv2d(in_channels, out_channels, kernel_size=(2,2),padding=1,  bias=False)\n",
        "            if down\n",
        "            else nn.ConvTranspose2d(in_channels, out_channels, kernel_size=(2,2),padding=1 , bias=False),\n",
        "            nn.BatchNorm2d(out_channels),\n",
        "            nn.ReLU() if act == \"relu\" else nn.LeakyReLU(0.2),\n",
        "        )\n",
        "\n",
        "        self.use_dropout = use_dropout\n",
        "        self.dropout = nn.Dropout(0.5)\n",
        "        self.down = down\n",
        "\n",
        "    def forward(self, x):\n",
        "        x = self.conv(x)\n",
        "        return self.dropout(x) if self.use_dropout else x\n",
        "\n",
        "\n",
        "class Generator(nn.Module):\n",
        "    def __init__(self, in_channels=3, features=64):\n",
        "        super().__init__()\n",
        "        self.initial_down = nn.Sequential(\n",
        "            nn.Conv2d(in_channels, features, 4, 2, 1, padding_mode=\"reflect\"),\n",
        "            nn.LeakyReLU(0.2),)\n",
        "        self.down1 = Block(features, features * 2, down=True, act=\"leaky\", use_dropout=False)\n",
        "        self.down2 = Block(features * 2, features * 4, down=True, act=\"leaky\", use_dropout=False)\n",
        "        self.down3 = Block(features * 4, features * 8, down=True, act=\"leaky\", use_dropout=False)\n",
        "        self.down4 = Block(features * 8, features * 8, down=True, act=\"leaky\", use_dropout=False)\n",
        "        self.down5 = Block(features * 8, features * 8, down=True, act=\"leaky\", use_dropout=False)\n",
        "        self.down6 = Block(features * 8, features * 8, down=True, act=\"leaky\", use_dropout=False)\n",
        "        self.bottleneck = nn.Sequential(nn.Conv2d(features * 8, features * 8, 4, 1, 2), nn.ReLU())\n",
        "\n",
        "\n",
        "        self.up1 = Block(features * 8, features * 8, down=False, act=\"relu\", use_dropout=True)\n",
        "        self.up2 = Block(features * 8 * 2, features * 8, down=False, act=\"relu\", use_dropout=True)\n",
        "        self.up3 = Block(features * 8 * 2, features * 8, down=False, act=\"relu\", use_dropout=True)\n",
        "        self.up4 = Block(features * 8 * 2, features * 8, down=False, act=\"relu\", use_dropout=False)\n",
        "        self.up5 = Block(features * 8 * 2, features * 4, down=False, act=\"relu\", use_dropout=False)\n",
        "        self.up6 = Block(features * 4 * 2, features * 2, down=False, act=\"relu\", use_dropout=False)\n",
        "        self.up7 = Block(features * 2 * 2, features, down=False, act=\"relu\", use_dropout=False)\n",
        "        self.final_up = nn.Sequential(nn.ConvTranspose2d(features * 2, in_channels, kernel_size=4, stride=2, padding=1),nn.Tanh(),)\n",
        "\n",
        "    def forward(self, x):\n",
        "        d1 = self.initial_down(x)\n",
        "        d2 = self.down1(d1)\n",
        "        d3 = self.down2(d2)\n",
        "        d4 = self.down3(d3)\n",
        "        d5 = self.down4(d4)\n",
        "        d6 = self.down5(d5)\n",
        "        d7 = self.down6(d6)\n",
        "        bottleneck = self.bottleneck(d7)\n",
        "        up1 = self.up1(bottleneck)\n",
        "        up2 = self.up2(torch.cat([up1, d7], 1))\n",
        "        up3 = self.up3(torch.cat([up2, d6], 1))\n",
        "        up4 = self.up4(torch.cat([up3, d5], 1))\n",
        "        up5 = self.up5(torch.cat([up4, d4], 1))\n",
        "        up6 = self.up6(torch.cat([up5, d3], 1))\n",
        "        up7 = self.up7(torch.cat([up6, d2], 1))\n",
        "        return self.final_up(torch.cat([up7, d1], 1))\n",
        "\n",
        "\n"
      ]
    },
    {
      "cell_type": "code",
      "execution_count": 40,
      "metadata": {
        "id": "UMcqoK-rPFDK"
      },
      "outputs": [],
      "source": [
        "class CNNBlock(nn.Module):\n",
        "    def __init__(self, in_channels, out_channels, stride):\n",
        "        super(CNNBlock, self).__init__()\n",
        "        self.conv = nn.Sequential(\n",
        "            nn.Conv2d(\n",
        "                in_channels, out_channels, 2, stride, bias=False\n",
        "            ),\n",
        "            nn.BatchNorm2d(out_channels),\n",
        "            nn.LeakyReLU(0.2),\n",
        "        )\n",
        "\n",
        "    def forward(self, x):\n",
        "        return self.conv(x)\n",
        "\n",
        "\n",
        "class Discriminator(nn.Module):\n",
        "    def __init__(self, in_channels=3, features=[64, 128, 256, 512]):\n",
        "        super().__init__()\n",
        "        self.initial = nn.Sequential(\n",
        "            nn.Conv2d(\n",
        "                in_channels * 2,\n",
        "                features[0],\n",
        "                kernel_size=4,\n",
        "                stride=2,\n",
        "                padding=1,\n",
        "                padding_mode=\"reflect\",\n",
        "            ),\n",
        "            nn.LeakyReLU(0.2),\n",
        "        )\n",
        "\n",
        "        layers = []\n",
        "        in_channels = features[0]\n",
        "        for feature in features[1:]:\n",
        "            layers.append(\n",
        "                CNNBlock(in_channels, feature, stride=1 if feature == features[-1] else 2),\n",
        "            )\n",
        "            in_channels = feature\n",
        "\n",
        "        layers.append(\n",
        "            nn.Conv2d(\n",
        "                in_channels, 1, kernel_size=4, stride=1, padding=1, padding_mode=\"reflect\"\n",
        "            ),\n",
        "        )\n",
        "\n",
        "        self.model = nn.Sequential(*layers)\n",
        "\n",
        "    def forward(self, x, y):\n",
        "        x = torch.cat([x, y], dim=1)\n",
        "        x = self.initial(x)\n",
        "        x = self.model(x)\n",
        "        return x\n",
        "\n",
        "\n"
      ]
    },
    {
      "cell_type": "code",
      "source": [
        "b = Generator()\n",
        "b"
      ],
      "metadata": {
        "colab": {
          "base_uri": "https://localhost:8080/"
        },
        "id": "10uB3IIGwXPR",
        "outputId": "0261c648-8d61-4d4d-c128-58780c965fb7"
      },
      "execution_count": 41,
      "outputs": [
        {
          "output_type": "execute_result",
          "data": {
            "text/plain": [
              "Generator(\n",
              "  (initial_down): Sequential(\n",
              "    (0): Conv2d(3, 64, kernel_size=(4, 4), stride=(2, 2), padding=(1, 1), padding_mode=reflect)\n",
              "    (1): LeakyReLU(negative_slope=0.2)\n",
              "  )\n",
              "  (down1): Block(\n",
              "    (conv): Sequential(\n",
              "      (0): Conv2d(64, 128, kernel_size=(2, 2), stride=(1, 1), padding=(1, 1), bias=False)\n",
              "      (1): BatchNorm2d(128, eps=1e-05, momentum=0.1, affine=True, track_running_stats=True)\n",
              "      (2): LeakyReLU(negative_slope=0.2)\n",
              "    )\n",
              "    (dropout): Dropout(p=0.5, inplace=False)\n",
              "  )\n",
              "  (down2): Block(\n",
              "    (conv): Sequential(\n",
              "      (0): Conv2d(128, 256, kernel_size=(2, 2), stride=(1, 1), padding=(1, 1), bias=False)\n",
              "      (1): BatchNorm2d(256, eps=1e-05, momentum=0.1, affine=True, track_running_stats=True)\n",
              "      (2): LeakyReLU(negative_slope=0.2)\n",
              "    )\n",
              "    (dropout): Dropout(p=0.5, inplace=False)\n",
              "  )\n",
              "  (down3): Block(\n",
              "    (conv): Sequential(\n",
              "      (0): Conv2d(256, 512, kernel_size=(2, 2), stride=(1, 1), padding=(1, 1), bias=False)\n",
              "      (1): BatchNorm2d(512, eps=1e-05, momentum=0.1, affine=True, track_running_stats=True)\n",
              "      (2): LeakyReLU(negative_slope=0.2)\n",
              "    )\n",
              "    (dropout): Dropout(p=0.5, inplace=False)\n",
              "  )\n",
              "  (down4): Block(\n",
              "    (conv): Sequential(\n",
              "      (0): Conv2d(512, 512, kernel_size=(2, 2), stride=(1, 1), padding=(1, 1), bias=False)\n",
              "      (1): BatchNorm2d(512, eps=1e-05, momentum=0.1, affine=True, track_running_stats=True)\n",
              "      (2): LeakyReLU(negative_slope=0.2)\n",
              "    )\n",
              "    (dropout): Dropout(p=0.5, inplace=False)\n",
              "  )\n",
              "  (down5): Block(\n",
              "    (conv): Sequential(\n",
              "      (0): Conv2d(512, 512, kernel_size=(2, 2), stride=(1, 1), padding=(1, 1), bias=False)\n",
              "      (1): BatchNorm2d(512, eps=1e-05, momentum=0.1, affine=True, track_running_stats=True)\n",
              "      (2): LeakyReLU(negative_slope=0.2)\n",
              "    )\n",
              "    (dropout): Dropout(p=0.5, inplace=False)\n",
              "  )\n",
              "  (down6): Block(\n",
              "    (conv): Sequential(\n",
              "      (0): Conv2d(512, 512, kernel_size=(2, 2), stride=(1, 1), padding=(1, 1), bias=False)\n",
              "      (1): BatchNorm2d(512, eps=1e-05, momentum=0.1, affine=True, track_running_stats=True)\n",
              "      (2): LeakyReLU(negative_slope=0.2)\n",
              "    )\n",
              "    (dropout): Dropout(p=0.5, inplace=False)\n",
              "  )\n",
              "  (bottleneck): Sequential(\n",
              "    (0): Conv2d(512, 512, kernel_size=(4, 4), stride=(1, 1), padding=(2, 2))\n",
              "    (1): ReLU()\n",
              "  )\n",
              "  (up1): Block(\n",
              "    (conv): Sequential(\n",
              "      (0): ConvTranspose2d(512, 512, kernel_size=(2, 2), stride=(1, 1), padding=(1, 1), bias=False)\n",
              "      (1): BatchNorm2d(512, eps=1e-05, momentum=0.1, affine=True, track_running_stats=True)\n",
              "      (2): ReLU()\n",
              "    )\n",
              "    (dropout): Dropout(p=0.5, inplace=False)\n",
              "  )\n",
              "  (up2): Block(\n",
              "    (conv): Sequential(\n",
              "      (0): ConvTranspose2d(1024, 512, kernel_size=(2, 2), stride=(1, 1), padding=(1, 1), bias=False)\n",
              "      (1): BatchNorm2d(512, eps=1e-05, momentum=0.1, affine=True, track_running_stats=True)\n",
              "      (2): ReLU()\n",
              "    )\n",
              "    (dropout): Dropout(p=0.5, inplace=False)\n",
              "  )\n",
              "  (up3): Block(\n",
              "    (conv): Sequential(\n",
              "      (0): ConvTranspose2d(1024, 512, kernel_size=(2, 2), stride=(1, 1), padding=(1, 1), bias=False)\n",
              "      (1): BatchNorm2d(512, eps=1e-05, momentum=0.1, affine=True, track_running_stats=True)\n",
              "      (2): ReLU()\n",
              "    )\n",
              "    (dropout): Dropout(p=0.5, inplace=False)\n",
              "  )\n",
              "  (up4): Block(\n",
              "    (conv): Sequential(\n",
              "      (0): ConvTranspose2d(1024, 512, kernel_size=(2, 2), stride=(1, 1), padding=(1, 1), bias=False)\n",
              "      (1): BatchNorm2d(512, eps=1e-05, momentum=0.1, affine=True, track_running_stats=True)\n",
              "      (2): ReLU()\n",
              "    )\n",
              "    (dropout): Dropout(p=0.5, inplace=False)\n",
              "  )\n",
              "  (up5): Block(\n",
              "    (conv): Sequential(\n",
              "      (0): ConvTranspose2d(1024, 256, kernel_size=(2, 2), stride=(1, 1), padding=(1, 1), bias=False)\n",
              "      (1): BatchNorm2d(256, eps=1e-05, momentum=0.1, affine=True, track_running_stats=True)\n",
              "      (2): ReLU()\n",
              "    )\n",
              "    (dropout): Dropout(p=0.5, inplace=False)\n",
              "  )\n",
              "  (up6): Block(\n",
              "    (conv): Sequential(\n",
              "      (0): ConvTranspose2d(512, 128, kernel_size=(2, 2), stride=(1, 1), padding=(1, 1), bias=False)\n",
              "      (1): BatchNorm2d(128, eps=1e-05, momentum=0.1, affine=True, track_running_stats=True)\n",
              "      (2): ReLU()\n",
              "    )\n",
              "    (dropout): Dropout(p=0.5, inplace=False)\n",
              "  )\n",
              "  (up7): Block(\n",
              "    (conv): Sequential(\n",
              "      (0): ConvTranspose2d(256, 64, kernel_size=(2, 2), stride=(1, 1), padding=(1, 1), bias=False)\n",
              "      (1): BatchNorm2d(64, eps=1e-05, momentum=0.1, affine=True, track_running_stats=True)\n",
              "      (2): ReLU()\n",
              "    )\n",
              "    (dropout): Dropout(p=0.5, inplace=False)\n",
              "  )\n",
              "  (final_up): Sequential(\n",
              "    (0): ConvTranspose2d(128, 3, kernel_size=(4, 4), stride=(2, 2), padding=(1, 1))\n",
              "    (1): Tanh()\n",
              "  )\n",
              ")"
            ]
          },
          "metadata": {},
          "execution_count": 41
        }
      ]
    },
    {
      "cell_type": "code",
      "source": [
        "a = Discriminator()\n",
        "a"
      ],
      "metadata": {
        "colab": {
          "base_uri": "https://localhost:8080/"
        },
        "id": "WqLPIiWDuINf",
        "outputId": "5599c18b-b7b8-4e3a-800f-bfc6206f5d79"
      },
      "execution_count": 42,
      "outputs": [
        {
          "output_type": "execute_result",
          "data": {
            "text/plain": [
              "Discriminator(\n",
              "  (initial): Sequential(\n",
              "    (0): Conv2d(6, 64, kernel_size=(4, 4), stride=(2, 2), padding=(1, 1), padding_mode=reflect)\n",
              "    (1): LeakyReLU(negative_slope=0.2)\n",
              "  )\n",
              "  (model): Sequential(\n",
              "    (0): CNNBlock(\n",
              "      (conv): Sequential(\n",
              "        (0): Conv2d(64, 128, kernel_size=(2, 2), stride=(2, 2), bias=False)\n",
              "        (1): BatchNorm2d(128, eps=1e-05, momentum=0.1, affine=True, track_running_stats=True)\n",
              "        (2): LeakyReLU(negative_slope=0.2)\n",
              "      )\n",
              "    )\n",
              "    (1): CNNBlock(\n",
              "      (conv): Sequential(\n",
              "        (0): Conv2d(128, 256, kernel_size=(2, 2), stride=(2, 2), bias=False)\n",
              "        (1): BatchNorm2d(256, eps=1e-05, momentum=0.1, affine=True, track_running_stats=True)\n",
              "        (2): LeakyReLU(negative_slope=0.2)\n",
              "      )\n",
              "    )\n",
              "    (2): CNNBlock(\n",
              "      (conv): Sequential(\n",
              "        (0): Conv2d(256, 512, kernel_size=(2, 2), stride=(1, 1), bias=False)\n",
              "        (1): BatchNorm2d(512, eps=1e-05, momentum=0.1, affine=True, track_running_stats=True)\n",
              "        (2): LeakyReLU(negative_slope=0.2)\n",
              "      )\n",
              "    )\n",
              "    (3): Conv2d(512, 1, kernel_size=(4, 4), stride=(1, 1), padding=(1, 1), padding_mode=reflect)\n",
              "  )\n",
              ")"
            ]
          },
          "metadata": {},
          "execution_count": 42
        }
      ]
    },
    {
      "cell_type": "code",
      "execution_count": 43,
      "metadata": {
        "id": "SCx-JtoqRaqv"
      },
      "outputs": [],
      "source": [
        "class MapDataset(Dataset):\n",
        "    def __init__(self, root_dir,target_dir):\n",
        "        self.root_dir = root_dir\n",
        "        self.target_dir = target_dir\n",
        "        self.list_files = os.listdir(self.root_dir)\n",
        "        self.list_files_target = os.listdir(self.target_dir)\n",
        "\n",
        "    def __len__(self):\n",
        "        return len(self.list_files)\n",
        "\n",
        "    def __getitem__(self, index):\n",
        "        img_file = self.list_files[index]\n",
        "        img_file_target = self.list_files_target[index]\n",
        "        img_path = os.path.join(self.root_dir, img_file)\n",
        "        img_path_target = os.path.join(self.target_dir, img_file_target)\n",
        "       \n",
        "        input_image = np.array(Image.open(img_path))\n",
        "        target_image = np.array(Image.open(img_path_target))\n",
        "        \n",
        "\n",
        " #       augmentations = both_transform(image=input_image, image0=target_image)\n",
        "     \n",
        "\n",
        "     #   input_image = transform_only_input(image=input_image)[\"image\"]\n",
        "      #  target_image = transform_only_mask(image=target_image)[\"image\"]\n",
        "        input_image = transform_only_input(input_image)\n",
        "        target_image = transform_only_mask(target_image)\n",
        "\n",
        "\n",
        "\n",
        "        return input_image, target_image"
      ]
    },
    {
      "cell_type": "code",
      "execution_count": 54,
      "metadata": {
        "id": "WhtnamJ_UHjm"
      },
      "outputs": [],
      "source": [
        "#TRAIN_DIR = \"/content/drive/MyDrive/coarse_grid/\"\n",
        "#VAL_DIR = \"/content/drive/MyDrive/fine_grid/\"\n",
        "\n",
        "TRAIN_DIR = \"/content/drive/MyDrive/coarse_pic\"\n",
        "VAL_DIR = \"/content/drive/MyDrive/fine_pic\"\n",
        "BATCH_SIZE = 12\n",
        "LEARNING_RATE = 1e-3\n",
        "NUM_WORKERS = 2\n",
        "NUM_EPOCHS = 100\n",
        "CHECKPOINT_DISC = \"disc2.pth.tar\"\n",
        "CHECKPOINT_GEN = \"gen2.pth.tar\"\n",
        "gen_weights = \"gen_weights2.pt.tar\"\n",
        "disc_weights = \"disc_weights2.pt.tar\"\n",
        "LOAD_MODEL=False\n",
        "SAVE_MODEL = True\n",
        "loss_disc = []\n",
        "loss_gen = []\n",
        "def train_fn(\n",
        "    disc, gen, loader, opt_disc, opt_gen, l1_loss, bce, g_scaler, d_scaler,\n",
        "learning_rate):\n",
        "    loop = tqdm(loader, leave=True)\n",
        "\n",
        "\n",
        "\n",
        "    for idx, (x, y) in enumerate(loop):\n",
        "        x = x.to(DEVICE)\n",
        "        y = y.to(DEVICE)\n",
        "\n",
        "        # Train Discriminator\n",
        "        with torch.cuda.amp.autocast():\n",
        "            y_fake = gen(x)\n",
        "            D_real = disc(x, y)\n",
        "            D_real_loss = bce(D_real, torch.ones_like(D_real))\n",
        "            D_fake = disc(x, y_fake.detach())\n",
        "            D_fake_loss = bce(D_fake, torch.zeros_like(D_fake))\n",
        "            D_loss = (D_real_loss + D_fake_loss) / 2\n",
        "            loss_disc.append(D_loss.cpu().detach().numpy())\n",
        "\n",
        "        disc.zero_grad()\n",
        "        d_scaler.scale(D_loss).backward()\n",
        "        d_scaler.step(opt_disc)\n",
        "        d_scaler.update()\n",
        "\n",
        "        # Train generator\n",
        "        with torch.cuda.amp.autocast():\n",
        "            D_fake = disc(x, y_fake)\n",
        "            G_fake_loss = bce(D_fake, torch.ones_like(D_fake))\n",
        "            L1 = l1_loss(y_fake, y) * 100\n",
        "            G_loss = G_fake_loss + L1\n",
        "            loss_gen.append(G_loss.cpu().detach().numpy())\n",
        "\n",
        "        opt_gen.zero_grad()\n",
        "        g_scaler.scale(G_loss).backward()\n",
        "        g_scaler.step(opt_gen)\n",
        "        g_scaler.update()\n",
        "\n",
        "        if idx % 10 == 0:\n",
        "            loop.set_postfix(\n",
        "                D_real=torch.sigmoid(D_real).mean().item(),\n",
        "                D_fake=torch.sigmoid(D_fake).mean().item(),\n",
        "            )\n",
        "\n",
        "\n",
        "def main():\n",
        "    disc = Discriminator(in_channels=3).to(DEVICE)\n",
        "    gen = Generator(in_channels=3, features=64).to(DEVICE)\n",
        "    opt_disc = optim.Adam(disc.parameters(), lr=LEARNING_RATE , betas=(0.5, 0.999),)\n",
        "    opt_gen = optim.Adam(gen.parameters(), lr=LEARNING_RATE , betas=(0.5, 0.999))\n",
        "    BCE = nn.BCEWithLogitsLoss()\n",
        "    L1_LOSS = nn.L1Loss()\n",
        "\n",
        "    if LOAD_MODEL:\n",
        "        load_checkpoint(\n",
        "            CHECKPOINT_GEN, gen, opt_gen, LEARNING_RATE,\n",
        "        )\n",
        "        load_checkpoint(\n",
        "            CHECKPOINT_DISC, disc, opt_disc, LEARNING_RATE,\n",
        "        )\n",
        "\n",
        "    train_dataset = MapDataset(root_dir=TRAIN_DIR,target_dir=VAL_DIR)\n",
        "    train_loader = DataLoader(\n",
        "        train_dataset,\n",
        "        batch_size=BATCH_SIZE,\n",
        "        shuffle=True,\n",
        "        num_workers=NUM_WORKERS,\n",
        "    )\n",
        "    g_scaler = torch.cuda.amp.GradScaler()\n",
        "    d_scaler = torch.cuda.amp.GradScaler()\n",
        "    val_dataset = MapDataset(root_dir=VAL_DIR,target_dir=VAL_DIR)\n",
        "    val_loader = DataLoader(val_dataset, batch_size=BATCH_SIZE, shuffle=False)\n",
        "\n",
        "    for epoch in range(NUM_EPOCHS):\n",
        "        train_fn(\n",
        "            disc, gen, train_loader, opt_disc, opt_gen, L1_LOSS, BCE, g_scaler, d_scaler,\n",
        "        LEARNING_RATE)\n",
        "\n",
        "        if SAVE_MODEL and epoch % 5 == 0:\n",
        "            torch.save(gen.state_dict(), gen_weights)\n",
        "            torch.save(disc.state_dict(),disc_weights)\n",
        "            save_checkpoint(gen, opt_gen, filename=CHECKPOINT_GEN)\n",
        "            save_checkpoint(disc, opt_disc, filename=CHECKPOINT_DISC)\n",
        "\n",
        "    #    save_some_examples(gen, val_loader, epoch, folder=\"evaluation\")\n"
      ]
    },
    {
      "cell_type": "code",
      "execution_count": 55,
      "metadata": {
        "colab": {
          "base_uri": "https://localhost:8080/",
          "height": 140
        },
        "id": "ZvpusRv7GS-m",
        "outputId": "7980e0e8-b71f-410b-bae2-2e1f7f927154"
      },
      "outputs": [
        {
          "output_type": "execute_result",
          "data": {
            "text/plain": [
              "'|===========================================================================|\\n|                  PyTorch CUDA memory summary, device ID 0                 |\\n|---------------------------------------------------------------------------|\\n|            CUDA OOMs: 0            |        cudaMalloc retries: 0         |\\n|===========================================================================|\\n|        Metric         | Cur Usage  | Peak Usage | Tot Alloc  | Tot Freed  |\\n|---------------------------------------------------------------------------|\\n| Allocated memory      |    5024 MB |    8676 MB |  121741 MB |  116717 MB |\\n|       from large pool |    5013 MB |    8658 MB |  121546 MB |  116532 MB |\\n|       from small pool |      10 MB |      22 MB |     195 MB |     184 MB |\\n|---------------------------------------------------------------------------|\\n| Active memory         |    5024 MB |    8676 MB |  121741 MB |  116717 MB |\\n|       from large pool |    5013 MB |    8658 MB |  121546 MB |  116532 MB |\\n|       from small pool |      10 MB |      22 MB |     195 MB |     184 MB |\\n|---------------------------------------------------------------------------|\\n| GPU reserved memory   |    9952 MB |    9952 MB |    9952 MB |       0 B  |\\n|       from large pool |    9928 MB |    9928 MB |    9928 MB |       0 B  |\\n|       from small pool |      24 MB |      24 MB |      24 MB |       0 B  |\\n|---------------------------------------------------------------------------|\\n| Non-releasable memory |    2093 MB |    2895 MB |   78939 MB |   76845 MB |\\n|       from large pool |    2086 MB |    2893 MB |   78730 MB |   76644 MB |\\n|       from small pool |       7 MB |       8 MB |     209 MB |     201 MB |\\n|---------------------------------------------------------------------------|\\n| Allocations           |     340    |     691    |    6199    |    5859    |\\n|       from large pool |     108    |     218    |    2679    |    2571    |\\n|       from small pool |     232    |     475    |    3520    |    3288    |\\n|---------------------------------------------------------------------------|\\n| Active allocs         |     340    |     691    |    6199    |    5859    |\\n|       from large pool |     108    |     218    |    2679    |    2571    |\\n|       from small pool |     232    |     475    |    3520    |    3288    |\\n|---------------------------------------------------------------------------|\\n| GPU reserved segments |      77    |      77    |      77    |       0    |\\n|       from large pool |      65    |      65    |      65    |       0    |\\n|       from small pool |      12    |      12    |      12    |       0    |\\n|---------------------------------------------------------------------------|\\n| Non-releasable allocs |      49    |      98    |    3028    |    2979    |\\n|       from large pool |      27    |      48    |    1230    |    1203    |\\n|       from small pool |      22    |      54    |    1798    |    1776    |\\n|---------------------------------------------------------------------------|\\n| Oversize allocations  |       0    |       0    |       0    |       0    |\\n|---------------------------------------------------------------------------|\\n| Oversize GPU segments |       0    |       0    |       0    |       0    |\\n|===========================================================================|\\n'"
            ],
            "application/vnd.google.colaboratory.intrinsic+json": {
              "type": "string"
            }
          },
          "metadata": {},
          "execution_count": 55
        }
      ],
      "source": [
        "torch.cuda.memory_summary(device=None, abbreviated=False)"
      ]
    },
    {
      "cell_type": "code",
      "execution_count": 56,
      "metadata": {
        "id": "QHVRfiNRbTmq"
      },
      "outputs": [],
      "source": [
        "if __name__ == \"__main__\":\n",
        "    dataset = MapDataset(TRAIN_DIR,VAL_DIR)\n",
        "\n",
        "    loader = DataLoader(dataset, batch_size=BATCH_SIZE)\n",
        "  #  for x, y in loader:\n",
        "    #    print(x.shape)\n",
        "    #    save_image(x, \"x.png\")\n",
        "    #    save_image(y, \"y.png\")\n",
        "    #    import sys\n",
        "    #    sys.exit()"
      ]
    },
    {
      "cell_type": "code",
      "execution_count": 57,
      "metadata": {
        "colab": {
          "base_uri": "https://localhost:8080/"
        },
        "id": "YXU69ko6yVy5",
        "outputId": "73994b95-fafc-4c17-d13f-830a9aae2db3"
      },
      "outputs": [
        {
          "output_type": "execute_result",
          "data": {
            "text/plain": [
              "True"
            ]
          },
          "metadata": {},
          "execution_count": 57
        }
      ],
      "source": [
        "torch.cuda.is_available()"
      ]
    },
    {
      "cell_type": "code",
      "execution_count": 58,
      "metadata": {
        "colab": {
          "base_uri": "https://localhost:8080/"
        },
        "id": "XJtO1suJRbFb",
        "outputId": "5695bb58-a021-4ea1-f86c-c71bcdffbd23"
      },
      "outputs": [
        {
          "metadata": {
            "tags": null
          },
          "name": "stderr",
          "output_type": "stream",
          "text": [
            "100%|██████████| 14/14 [00:28<00:00,  2.03s/it, D_fake=0.186, D_real=0.728]\n"
          ]
        },
        {
          "metadata": {
            "tags": null
          },
          "name": "stdout",
          "output_type": "stream",
          "text": [
            "=> Saving checkpoint\n",
            "=> Saving checkpoint\n"
          ]
        },
        {
          "metadata": {
            "tags": null
          },
          "name": "stderr",
          "output_type": "stream",
          "text": [
            "100%|██████████| 14/14 [00:28<00:00,  2.03s/it, D_fake=0.0828, D_real=0.912]\n",
            "100%|██████████| 14/14 [00:28<00:00,  2.03s/it, D_fake=0.0252, D_real=0.97]\n",
            "100%|██████████| 14/14 [00:28<00:00,  2.03s/it, D_fake=0.259, D_real=0.752]\n",
            "100%|██████████| 14/14 [00:28<00:00,  2.03s/it, D_fake=0.101, D_real=0.903]\n",
            "100%|██████████| 14/14 [00:28<00:00,  2.03s/it, D_fake=0.541, D_real=0.512]\n"
          ]
        },
        {
          "metadata": {
            "tags": null
          },
          "name": "stdout",
          "output_type": "stream",
          "text": [
            "=> Saving checkpoint\n",
            "=> Saving checkpoint\n"
          ]
        },
        {
          "metadata": {
            "tags": null
          },
          "name": "stderr",
          "output_type": "stream",
          "text": [
            "100%|██████████| 14/14 [00:28<00:00,  2.03s/it, D_fake=0.551, D_real=0.458]\n",
            "100%|██████████| 14/14 [00:28<00:00,  2.03s/it, D_fake=0.541, D_real=0.467]\n",
            "100%|██████████| 14/14 [00:28<00:00,  2.03s/it, D_fake=0.529, D_real=0.48]\n",
            "100%|██████████| 14/14 [00:28<00:00,  2.03s/it, D_fake=0.552, D_real=0.427]\n",
            "100%|██████████| 14/14 [00:28<00:00,  2.03s/it, D_fake=0.295, D_real=0.707]\n"
          ]
        },
        {
          "metadata": {
            "tags": null
          },
          "name": "stdout",
          "output_type": "stream",
          "text": [
            "=> Saving checkpoint\n",
            "=> Saving checkpoint\n"
          ]
        },
        {
          "metadata": {
            "tags": null
          },
          "name": "stderr",
          "output_type": "stream",
          "text": [
            "100%|██████████| 14/14 [00:28<00:00,  2.03s/it, D_fake=0.24, D_real=0.733]\n",
            "100%|██████████| 14/14 [00:28<00:00,  2.03s/it, D_fake=0.137, D_real=0.83]\n",
            "100%|██████████| 14/14 [00:28<00:00,  2.03s/it, D_fake=0.0464, D_real=0.945]\n",
            "100%|██████████| 14/14 [00:28<00:00,  2.03s/it, D_fake=0.698, D_real=0.203]\n",
            "100%|██████████| 14/14 [00:28<00:00,  2.03s/it, D_fake=0.172, D_real=0.832]\n"
          ]
        },
        {
          "metadata": {
            "tags": null
          },
          "name": "stdout",
          "output_type": "stream",
          "text": [
            "=> Saving checkpoint\n",
            "=> Saving checkpoint\n"
          ]
        },
        {
          "metadata": {
            "tags": null
          },
          "name": "stderr",
          "output_type": "stream",
          "text": [
            "100%|██████████| 14/14 [00:28<00:00,  2.03s/it, D_fake=0.155, D_real=0.761]\n",
            "100%|██████████| 14/14 [00:28<00:00,  2.03s/it, D_fake=0.268, D_real=0.663]\n",
            "100%|██████████| 14/14 [00:28<00:00,  2.03s/it, D_fake=0.29, D_real=0.677]\n",
            "100%|██████████| 14/14 [00:28<00:00,  2.03s/it, D_fake=0.192, D_real=0.815]\n",
            "100%|██████████| 14/14 [00:28<00:00,  2.03s/it, D_fake=0.197, D_real=0.216]\n"
          ]
        },
        {
          "metadata": {
            "tags": null
          },
          "name": "stdout",
          "output_type": "stream",
          "text": [
            "=> Saving checkpoint\n",
            "=> Saving checkpoint\n"
          ]
        },
        {
          "metadata": {
            "tags": null
          },
          "name": "stderr",
          "output_type": "stream",
          "text": [
            "100%|██████████| 14/14 [00:28<00:00,  2.03s/it, D_fake=0.359, D_real=0.432]\n",
            "100%|██████████| 14/14 [00:28<00:00,  2.03s/it, D_fake=0.348, D_real=0.235]\n",
            "100%|██████████| 14/14 [00:28<00:00,  2.03s/it, D_fake=0.0876, D_real=0.903]\n",
            "100%|██████████| 14/14 [00:28<00:00,  2.03s/it, D_fake=0.131, D_real=0.834]\n",
            "100%|██████████| 14/14 [00:28<00:00,  2.03s/it, D_fake=0.47, D_real=0.366]\n"
          ]
        },
        {
          "metadata": {
            "tags": null
          },
          "name": "stdout",
          "output_type": "stream",
          "text": [
            "=> Saving checkpoint\n",
            "=> Saving checkpoint\n"
          ]
        },
        {
          "metadata": {
            "tags": null
          },
          "name": "stderr",
          "output_type": "stream",
          "text": [
            "100%|██████████| 14/14 [00:28<00:00,  2.03s/it, D_fake=0.0614, D_real=0.942]\n",
            "100%|██████████| 14/14 [00:28<00:00,  2.03s/it, D_fake=0.0338, D_real=0.932]\n",
            "100%|██████████| 14/14 [00:28<00:00,  2.03s/it, D_fake=0.557, D_real=0.375]\n",
            "100%|██████████| 14/14 [00:28<00:00,  2.03s/it, D_fake=0.247, D_real=0.671]\n",
            "100%|██████████| 14/14 [00:28<00:00,  2.03s/it, D_fake=0.064, D_real=0.872]\n"
          ]
        },
        {
          "metadata": {
            "tags": null
          },
          "name": "stdout",
          "output_type": "stream",
          "text": [
            "=> Saving checkpoint\n",
            "=> Saving checkpoint\n"
          ]
        },
        {
          "metadata": {
            "tags": null
          },
          "name": "stderr",
          "output_type": "stream",
          "text": [
            "100%|██████████| 14/14 [00:28<00:00,  2.03s/it, D_fake=0.183, D_real=0.863]\n",
            "100%|██████████| 14/14 [00:28<00:00,  2.03s/it, D_fake=0.0556, D_real=0.952]\n",
            "100%|██████████| 14/14 [00:28<00:00,  2.03s/it, D_fake=0.105, D_real=0.873]\n",
            "100%|██████████| 14/14 [00:28<00:00,  2.03s/it, D_fake=0.101, D_real=0.917]\n",
            "100%|██████████| 14/14 [00:28<00:00,  2.03s/it, D_fake=0.0518, D_real=0.929]\n"
          ]
        },
        {
          "metadata": {
            "tags": null
          },
          "name": "stdout",
          "output_type": "stream",
          "text": [
            "=> Saving checkpoint\n",
            "=> Saving checkpoint\n"
          ]
        },
        {
          "metadata": {
            "tags": null
          },
          "name": "stderr",
          "output_type": "stream",
          "text": [
            "100%|██████████| 14/14 [00:28<00:00,  2.03s/it, D_fake=0.159, D_real=0.673]\n",
            "100%|██████████| 14/14 [00:28<00:00,  2.03s/it, D_fake=0.0938, D_real=0.853]\n",
            "100%|██████████| 14/14 [00:28<00:00,  2.03s/it, D_fake=0.0927, D_real=0.696]\n",
            "100%|██████████| 14/14 [00:28<00:00,  2.03s/it, D_fake=0.253, D_real=0.165]\n",
            "100%|██████████| 14/14 [00:28<00:00,  2.03s/it, D_fake=0.0801, D_real=0.868]\n"
          ]
        },
        {
          "metadata": {
            "tags": null
          },
          "name": "stdout",
          "output_type": "stream",
          "text": [
            "=> Saving checkpoint\n",
            "=> Saving checkpoint\n"
          ]
        },
        {
          "metadata": {
            "tags": null
          },
          "name": "stderr",
          "output_type": "stream",
          "text": [
            "100%|██████████| 14/14 [00:28<00:00,  2.03s/it, D_fake=0.0712, D_real=0.916]\n",
            "100%|██████████| 14/14 [00:28<00:00,  2.03s/it, D_fake=0.103, D_real=0.866]\n",
            "100%|██████████| 14/14 [00:28<00:00,  2.03s/it, D_fake=0.045, D_real=0.619]\n",
            "100%|██████████| 14/14 [00:28<00:00,  2.03s/it, D_fake=0.0304, D_real=0.964]\n",
            "100%|██████████| 14/14 [00:28<00:00,  2.03s/it, D_fake=0.0159, D_real=0.764]\n"
          ]
        },
        {
          "metadata": {
            "tags": null
          },
          "name": "stdout",
          "output_type": "stream",
          "text": [
            "=> Saving checkpoint\n",
            "=> Saving checkpoint\n"
          ]
        },
        {
          "metadata": {
            "tags": null
          },
          "name": "stderr",
          "output_type": "stream",
          "text": [
            "100%|██████████| 14/14 [00:28<00:00,  2.03s/it, D_fake=0.261, D_real=0.826]\n",
            "100%|██████████| 14/14 [00:28<00:00,  2.03s/it, D_fake=0.167, D_real=0.903]\n",
            "100%|██████████| 14/14 [00:28<00:00,  2.03s/it, D_fake=0.0728, D_real=0.938]\n",
            "100%|██████████| 14/14 [00:28<00:00,  2.03s/it, D_fake=0.0512, D_real=0.916]\n",
            "100%|██████████| 14/14 [00:28<00:00,  2.03s/it, D_fake=0.00764, D_real=0.961]\n"
          ]
        },
        {
          "metadata": {
            "tags": null
          },
          "name": "stdout",
          "output_type": "stream",
          "text": [
            "=> Saving checkpoint\n",
            "=> Saving checkpoint\n"
          ]
        },
        {
          "metadata": {
            "tags": null
          },
          "name": "stderr",
          "output_type": "stream",
          "text": [
            "100%|██████████| 14/14 [00:28<00:00,  2.03s/it, D_fake=0.0243, D_real=0.99]\n",
            "100%|██████████| 14/14 [00:28<00:00,  2.03s/it, D_fake=0.00532, D_real=0.984]\n",
            "100%|██████████| 14/14 [00:28<00:00,  2.03s/it, D_fake=0.208, D_real=0.688]\n",
            "100%|██████████| 14/14 [00:28<00:00,  2.03s/it, D_fake=0.0445, D_real=0.945]\n",
            "100%|██████████| 14/14 [00:28<00:00,  2.03s/it, D_fake=0.0193, D_real=0.948]\n"
          ]
        },
        {
          "metadata": {
            "tags": null
          },
          "name": "stdout",
          "output_type": "stream",
          "text": [
            "=> Saving checkpoint\n",
            "=> Saving checkpoint\n"
          ]
        },
        {
          "metadata": {
            "tags": null
          },
          "name": "stderr",
          "output_type": "stream",
          "text": [
            "100%|██████████| 14/14 [00:28<00:00,  2.03s/it, D_fake=0.0268, D_real=0.967]\n",
            "100%|██████████| 14/14 [00:28<00:00,  2.03s/it, D_fake=0.00205, D_real=0.979]\n",
            "100%|██████████| 14/14 [00:28<00:00,  2.03s/it, D_fake=0.0205, D_real=0.987]\n",
            "100%|██████████| 14/14 [00:28<00:00,  2.03s/it, D_fake=0.0104, D_real=0.991]\n",
            "100%|██████████| 14/14 [00:28<00:00,  2.03s/it, D_fake=0.00349, D_real=0.985]\n"
          ]
        },
        {
          "metadata": {
            "tags": null
          },
          "name": "stdout",
          "output_type": "stream",
          "text": [
            "=> Saving checkpoint\n",
            "=> Saving checkpoint\n"
          ]
        },
        {
          "metadata": {
            "tags": null
          },
          "name": "stderr",
          "output_type": "stream",
          "text": [
            "100%|██████████| 14/14 [00:28<00:00,  2.03s/it, D_fake=0.00825, D_real=0.997]\n",
            "100%|██████████| 14/14 [00:28<00:00,  2.03s/it, D_fake=0.00925, D_real=0.991]\n",
            "100%|██████████| 14/14 [00:28<00:00,  2.03s/it, D_fake=0.0139, D_real=0.996]\n",
            "100%|██████████| 14/14 [00:28<00:00,  2.03s/it, D_fake=0.0106, D_real=0.997]\n",
            "100%|██████████| 14/14 [00:28<00:00,  2.03s/it, D_fake=0.00969, D_real=0.997]\n"
          ]
        },
        {
          "metadata": {
            "tags": null
          },
          "name": "stdout",
          "output_type": "stream",
          "text": [
            "=> Saving checkpoint\n",
            "=> Saving checkpoint\n"
          ]
        },
        {
          "metadata": {
            "tags": null
          },
          "name": "stderr",
          "output_type": "stream",
          "text": [
            "100%|██████████| 14/14 [00:28<00:00,  2.03s/it, D_fake=0.00682, D_real=0.997]\n",
            "100%|██████████| 14/14 [00:28<00:00,  2.03s/it, D_fake=0.00124, D_real=0.998]\n",
            "100%|██████████| 14/14 [00:28<00:00,  2.03s/it, D_fake=0.367, D_real=0.0602]\n",
            "100%|██████████| 14/14 [00:28<00:00,  2.03s/it, D_fake=0.269, D_real=0.539]\n",
            "100%|██████████| 14/14 [00:28<00:00,  2.03s/it, D_fake=0.0853, D_real=0.877]\n"
          ]
        },
        {
          "metadata": {
            "tags": null
          },
          "name": "stdout",
          "output_type": "stream",
          "text": [
            "=> Saving checkpoint\n",
            "=> Saving checkpoint\n"
          ]
        },
        {
          "output_type": "stream",
          "name": "stderr",
          "text": [
            "100%|██████████| 14/14 [00:28<00:00,  2.03s/it, D_fake=0.0186, D_real=0.964]\n",
            "100%|██████████| 14/14 [00:28<00:00,  2.03s/it, D_fake=0.0315, D_real=0.927]\n",
            "100%|██████████| 14/14 [00:28<00:00,  2.03s/it, D_fake=0.0384, D_real=0.928]\n",
            "100%|██████████| 14/14 [00:28<00:00,  2.03s/it, D_fake=0.02, D_real=0.951]\n",
            "100%|██████████| 14/14 [00:28<00:00,  2.03s/it, D_fake=0.042, D_real=0.989]\n"
          ]
        },
        {
          "output_type": "stream",
          "name": "stdout",
          "text": [
            "=> Saving checkpoint\n",
            "=> Saving checkpoint\n"
          ]
        },
        {
          "output_type": "stream",
          "name": "stderr",
          "text": [
            "100%|██████████| 14/14 [00:28<00:00,  2.03s/it, D_fake=0.00856, D_real=0.988]\n",
            "100%|██████████| 14/14 [00:28<00:00,  2.03s/it, D_fake=0.0168, D_real=0.952]\n",
            "100%|██████████| 14/14 [00:28<00:00,  2.03s/it, D_fake=0.0102, D_real=0.994]\n",
            "100%|██████████| 14/14 [00:28<00:00,  2.03s/it, D_fake=0.0089, D_real=0.996]\n",
            "100%|██████████| 14/14 [00:28<00:00,  2.03s/it, D_fake=0.00718, D_real=0.995]\n"
          ]
        },
        {
          "output_type": "stream",
          "name": "stdout",
          "text": [
            "=> Saving checkpoint\n",
            "=> Saving checkpoint\n"
          ]
        },
        {
          "output_type": "stream",
          "name": "stderr",
          "text": [
            "100%|██████████| 14/14 [00:28<00:00,  2.03s/it, D_fake=0.00746, D_real=0.995]\n",
            "100%|██████████| 14/14 [00:28<00:00,  2.03s/it, D_fake=0.00356, D_real=0.995]\n",
            "100%|██████████| 14/14 [00:28<00:00,  2.03s/it, D_fake=0.00532, D_real=0.994]\n",
            "100%|██████████| 14/14 [00:28<00:00,  2.03s/it, D_fake=0.00451, D_real=0.996]\n",
            "100%|██████████| 14/14 [00:28<00:00,  2.03s/it, D_fake=0.000312, D_real=0.981]\n"
          ]
        },
        {
          "output_type": "stream",
          "name": "stdout",
          "text": [
            "=> Saving checkpoint\n",
            "=> Saving checkpoint\n"
          ]
        },
        {
          "output_type": "stream",
          "name": "stderr",
          "text": [
            "100%|██████████| 14/14 [00:28<00:00,  2.03s/it, D_fake=0.000939, D_real=0.999]\n",
            "100%|██████████| 14/14 [00:28<00:00,  2.03s/it, D_fake=0.00333, D_real=0.998]\n",
            "100%|██████████| 14/14 [00:28<00:00,  2.03s/it, D_fake=0.00165, D_real=0.999]\n",
            "100%|██████████| 14/14 [00:28<00:00,  2.03s/it, D_fake=0.00331, D_real=0.999]\n",
            "100%|██████████| 14/14 [00:28<00:00,  2.03s/it, D_fake=0.00237, D_real=0.999]\n"
          ]
        },
        {
          "output_type": "stream",
          "name": "stdout",
          "text": [
            "=> Saving checkpoint\n",
            "=> Saving checkpoint\n"
          ]
        },
        {
          "output_type": "stream",
          "name": "stderr",
          "text": [
            "100%|██████████| 14/14 [00:28<00:00,  2.03s/it, D_fake=0.00249, D_real=0.998]\n",
            "100%|██████████| 14/14 [00:28<00:00,  2.03s/it, D_fake=0.00231, D_real=0.999]\n",
            "100%|██████████| 14/14 [00:28<00:00,  2.03s/it, D_fake=0.00219, D_real=1]\n",
            "100%|██████████| 14/14 [00:28<00:00,  2.03s/it, D_fake=0.002, D_real=1]\n",
            "100%|██████████| 14/14 [00:28<00:00,  2.03s/it, D_fake=0.00171, D_real=1]\n"
          ]
        },
        {
          "output_type": "stream",
          "name": "stdout",
          "text": [
            "=> Saving checkpoint\n",
            "=> Saving checkpoint\n"
          ]
        },
        {
          "output_type": "stream",
          "name": "stderr",
          "text": [
            "100%|██████████| 14/14 [00:28<00:00,  2.03s/it, D_fake=0.0012, D_real=1]\n",
            "100%|██████████| 14/14 [00:28<00:00,  2.03s/it, D_fake=0.0019, D_real=1]\n",
            "100%|██████████| 14/14 [00:28<00:00,  2.03s/it, D_fake=0.00232, D_real=1]\n",
            "100%|██████████| 14/14 [00:28<00:00,  2.03s/it, D_fake=0.00237, D_real=1]\n"
          ]
        }
      ],
      "source": [
        "if __name__ == \"__main__\":\n",
        "    main()"
      ]
    },
    {
      "cell_type": "code",
      "source": [
        "from google.colab import files\n",
        "files.download('/content/gen_weights2.pt.tar')\n",
        "files.download('/content/gen2.pth.tar')\n",
        "files.download('/content/disc_weights2.pt.tar')\n",
        "files.download('/content/disc2.pth.tar')"
      ],
      "metadata": {
        "colab": {
          "base_uri": "https://localhost:8080/",
          "height": 86
        },
        "id": "Rpw6WOClbi3P",
        "outputId": "10c6f43c-fcf0-4cb6-e7fc-f7e5a8d69713"
      },
      "execution_count": 59,
      "outputs": [
        {
          "output_type": "display_data",
          "data": {
            "text/plain": [
              "<IPython.core.display.Javascript object>"
            ],
            "application/javascript": [
              "\n",
              "    async function download(id, filename, size) {\n",
              "      if (!google.colab.kernel.accessAllowed) {\n",
              "        return;\n",
              "      }\n",
              "      const div = document.createElement('div');\n",
              "      const label = document.createElement('label');\n",
              "      label.textContent = `Downloading \"${filename}\": `;\n",
              "      div.appendChild(label);\n",
              "      const progress = document.createElement('progress');\n",
              "      progress.max = size;\n",
              "      div.appendChild(progress);\n",
              "      document.body.appendChild(div);\n",
              "\n",
              "      const buffers = [];\n",
              "      let downloaded = 0;\n",
              "\n",
              "      const channel = await google.colab.kernel.comms.open(id);\n",
              "      // Send a message to notify the kernel that we're ready.\n",
              "      channel.send({})\n",
              "\n",
              "      for await (const message of channel.messages) {\n",
              "        // Send a message to notify the kernel that we're ready.\n",
              "        channel.send({})\n",
              "        if (message.buffers) {\n",
              "          for (const buffer of message.buffers) {\n",
              "            buffers.push(buffer);\n",
              "            downloaded += buffer.byteLength;\n",
              "            progress.value = downloaded;\n",
              "          }\n",
              "        }\n",
              "      }\n",
              "      const blob = new Blob(buffers, {type: 'application/binary'});\n",
              "      const a = document.createElement('a');\n",
              "      a.href = window.URL.createObjectURL(blob);\n",
              "      a.download = filename;\n",
              "      div.appendChild(a);\n",
              "      a.click();\n",
              "      div.remove();\n",
              "    }\n",
              "  "
            ]
          },
          "metadata": {}
        },
        {
          "output_type": "display_data",
          "data": {
            "text/plain": [
              "<IPython.core.display.Javascript object>"
            ],
            "application/javascript": [
              "download(\"download_fd4fdc9f-81e5-4efc-be42-51bf428037de\", \"gen_weights2.pt.tar\", 67124009)"
            ]
          },
          "metadata": {}
        },
        {
          "output_type": "display_data",
          "data": {
            "text/plain": [
              "<IPython.core.display.Javascript object>"
            ],
            "application/javascript": [
              "\n",
              "    async function download(id, filename, size) {\n",
              "      if (!google.colab.kernel.accessAllowed) {\n",
              "        return;\n",
              "      }\n",
              "      const div = document.createElement('div');\n",
              "      const label = document.createElement('label');\n",
              "      label.textContent = `Downloading \"${filename}\": `;\n",
              "      div.appendChild(label);\n",
              "      const progress = document.createElement('progress');\n",
              "      progress.max = size;\n",
              "      div.appendChild(progress);\n",
              "      document.body.appendChild(div);\n",
              "\n",
              "      const buffers = [];\n",
              "      let downloaded = 0;\n",
              "\n",
              "      const channel = await google.colab.kernel.comms.open(id);\n",
              "      // Send a message to notify the kernel that we're ready.\n",
              "      channel.send({})\n",
              "\n",
              "      for await (const message of channel.messages) {\n",
              "        // Send a message to notify the kernel that we're ready.\n",
              "        channel.send({})\n",
              "        if (message.buffers) {\n",
              "          for (const buffer of message.buffers) {\n",
              "            buffers.push(buffer);\n",
              "            downloaded += buffer.byteLength;\n",
              "            progress.value = downloaded;\n",
              "          }\n",
              "        }\n",
              "      }\n",
              "      const blob = new Blob(buffers, {type: 'application/binary'});\n",
              "      const a = document.createElement('a');\n",
              "      a.href = window.URL.createObjectURL(blob);\n",
              "      a.download = filename;\n",
              "      div.appendChild(a);\n",
              "      a.click();\n",
              "      div.remove();\n",
              "    }\n",
              "  "
            ]
          },
          "metadata": {}
        },
        {
          "output_type": "display_data",
          "data": {
            "text/plain": [
              "<IPython.core.display.Javascript object>"
            ],
            "application/javascript": [
              "download(\"download_3eb55ff5-31d6-4170-aec8-12460942b4ff\", \"gen2.pth.tar\", 201263909)"
            ]
          },
          "metadata": {}
        },
        {
          "output_type": "display_data",
          "data": {
            "text/plain": [
              "<IPython.core.display.Javascript object>"
            ],
            "application/javascript": [
              "\n",
              "    async function download(id, filename, size) {\n",
              "      if (!google.colab.kernel.accessAllowed) {\n",
              "        return;\n",
              "      }\n",
              "      const div = document.createElement('div');\n",
              "      const label = document.createElement('label');\n",
              "      label.textContent = `Downloading \"${filename}\": `;\n",
              "      div.appendChild(label);\n",
              "      const progress = document.createElement('progress');\n",
              "      progress.max = size;\n",
              "      div.appendChild(progress);\n",
              "      document.body.appendChild(div);\n",
              "\n",
              "      const buffers = [];\n",
              "      let downloaded = 0;\n",
              "\n",
              "      const channel = await google.colab.kernel.comms.open(id);\n",
              "      // Send a message to notify the kernel that we're ready.\n",
              "      channel.send({})\n",
              "\n",
              "      for await (const message of channel.messages) {\n",
              "        // Send a message to notify the kernel that we're ready.\n",
              "        channel.send({})\n",
              "        if (message.buffers) {\n",
              "          for (const buffer of message.buffers) {\n",
              "            buffers.push(buffer);\n",
              "            downloaded += buffer.byteLength;\n",
              "            progress.value = downloaded;\n",
              "          }\n",
              "        }\n",
              "      }\n",
              "      const blob = new Blob(buffers, {type: 'application/binary'});\n",
              "      const a = document.createElement('a');\n",
              "      a.href = window.URL.createObjectURL(blob);\n",
              "      a.download = filename;\n",
              "      div.appendChild(a);\n",
              "      a.click();\n",
              "      div.remove();\n",
              "    }\n",
              "  "
            ]
          },
          "metadata": {}
        },
        {
          "output_type": "display_data",
          "data": {
            "text/plain": [
              "<IPython.core.display.Javascript object>"
            ],
            "application/javascript": [
              "download(\"download_01ece56e-5e27-414d-8c20-8697c4707ffc\", \"disc_weights2.pt.tar\", 2831395)"
            ]
          },
          "metadata": {}
        },
        {
          "output_type": "display_data",
          "data": {
            "text/plain": [
              "<IPython.core.display.Javascript object>"
            ],
            "application/javascript": [
              "\n",
              "    async function download(id, filename, size) {\n",
              "      if (!google.colab.kernel.accessAllowed) {\n",
              "        return;\n",
              "      }\n",
              "      const div = document.createElement('div');\n",
              "      const label = document.createElement('label');\n",
              "      label.textContent = `Downloading \"${filename}\": `;\n",
              "      div.appendChild(label);\n",
              "      const progress = document.createElement('progress');\n",
              "      progress.max = size;\n",
              "      div.appendChild(progress);\n",
              "      document.body.appendChild(div);\n",
              "\n",
              "      const buffers = [];\n",
              "      let downloaded = 0;\n",
              "\n",
              "      const channel = await google.colab.kernel.comms.open(id);\n",
              "      // Send a message to notify the kernel that we're ready.\n",
              "      channel.send({})\n",
              "\n",
              "      for await (const message of channel.messages) {\n",
              "        // Send a message to notify the kernel that we're ready.\n",
              "        channel.send({})\n",
              "        if (message.buffers) {\n",
              "          for (const buffer of message.buffers) {\n",
              "            buffers.push(buffer);\n",
              "            downloaded += buffer.byteLength;\n",
              "            progress.value = downloaded;\n",
              "          }\n",
              "        }\n",
              "      }\n",
              "      const blob = new Blob(buffers, {type: 'application/binary'});\n",
              "      const a = document.createElement('a');\n",
              "      a.href = window.URL.createObjectURL(blob);\n",
              "      a.download = filename;\n",
              "      div.appendChild(a);\n",
              "      a.click();\n",
              "      div.remove();\n",
              "    }\n",
              "  "
            ]
          },
          "metadata": {}
        },
        {
          "output_type": "display_data",
          "data": {
            "text/plain": [
              "<IPython.core.display.Javascript object>"
            ],
            "application/javascript": [
              "download(\"download_1a6e659d-db52-4e5d-b942-222a160a4403\", \"disc2.pth.tar\", 8473813)"
            ]
          },
          "metadata": {}
        }
      ]
    },
    {
      "cell_type": "markdown",
      "metadata": {
        "id": "MjoSlUV0dVX6"
      },
      "source": [
        "# Testing"
      ]
    },
    {
      "cell_type": "code",
      "execution_count": 64,
      "metadata": {
        "id": "z9AMG2pp623F"
      },
      "outputs": [],
      "source": [
        "def test_discriminator():\n",
        "    x = torch.randn((1, 3, 80, 640))\n",
        "    y = torch.randn((1, 3, 80, 640))\n",
        "    model = Discriminator(in_channels=3)\n",
        "    preds = model(x, y)\n",
        "    print(model)\n",
        "    print(preds.shape)"
      ]
    },
    {
      "cell_type": "code",
      "execution_count": 65,
      "metadata": {
        "id": "rSw9-Tsf61JP"
      },
      "outputs": [],
      "source": [
        "def test_generator(picture, have_pic = True):\n",
        "  model = Generator(in_channels=3, features=64)\n",
        "  if have_pic:\n",
        "      preds = model(picture)\n",
        "  else:\n",
        "    x = torch.randn((1, 3, 80, 640))\n",
        "    preds = model(x)\n",
        "  return preds"
      ]
    },
    {
      "cell_type": "code",
      "execution_count": 66,
      "metadata": {
        "id": "l-HMj4D7YItg"
      },
      "outputs": [],
      "source": [
        "generator = Generator(in_channels=3, features=64).to(DEVICE)\n",
        "opt_gen = optim.Adam(generator.parameters(), lr=LEARNING_RATE , betas=(0.5, 0.999))\n"
      ]
    },
    {
      "cell_type": "code",
      "execution_count": 67,
      "metadata": {
        "id": "pNumWovgB8R_",
        "colab": {
          "base_uri": "https://localhost:8080/"
        },
        "outputId": "ec998a68-6653-40c6-f1fa-fbfdfd626069"
      },
      "outputs": [
        {
          "output_type": "stream",
          "name": "stdout",
          "text": [
            "=> Loading checkpoint\n"
          ]
        }
      ],
      "source": [
        "def load_checkpoint(checkpoint_file, model, optimizer, lr):\n",
        "    print(\"=> Loading checkpoint\")\n",
        "    checkpoint = torch.load(checkpoint_file, map_location=DEVICE)\n",
        "    model.load_state_dict(checkpoint[\"state_dict\"])\n",
        "    optimizer.load_state_dict(checkpoint[\"optimizer\"])\n",
        "\n",
        "    # If we don't do this then it will just have learning rate of old checkpoint\n",
        "    # and it will lead to many hours of debugging \\:\n",
        "    for param_group in optimizer.param_groups:\n",
        "        param_group[\"lr\"] = lr\n",
        "    return model\n",
        "\n",
        "gen = load_checkpoint('/content/gen2.pth.tar',generator,opt_gen,LEARNING_RATE)"
      ]
    },
    {
      "cell_type": "code",
      "execution_count": 78,
      "metadata": {
        "id": "SfQJVq-f6xPF",
        "colab": {
          "base_uri": "https://localhost:8080/"
        },
        "outputId": "37dd2454-15e4-4106-9d84-2085b7d7fa7e"
      },
      "outputs": [
        {
          "output_type": "stream",
          "name": "stdout",
          "text": [
            "Metric is 0.07341439\n"
          ]
        }
      ],
      "source": [
        "import glob\n",
        "#inputs = glob.glob('/content/drive/MyDrive/test' + '/*.jpg')\n",
        "#outputs = glob.glob('/content/drive/MyDrive/fine_test' + '/*.jpg')\n",
        "\n",
        "inputs = glob.glob('/content/drive/MyDrive/orszag_test/coarse' + '/*.jpg')\n",
        "outputs = glob.glob('/content/drive/MyDrive/orszag_test/fine' + '/*.jpg')\n",
        "for file,file2 in zip(inputs,outputs):\n",
        "  # print(file)\n",
        "   input_image = np.array(Image.open(file))\n",
        "   target_image = np.array(Image.open(file2))\n",
        "   target_image = np.resize(target_image,(200,200,3))\n",
        "   t1 = transform_only_input(input_image)\n",
        "   t1 = t1.unsqueeze(dim=0)\n",
        "   preds = test_generator(t1)\n",
        "\n",
        "   invTrans = transforms.Compose([ transforms.Normalize(mean = [ 0., 0., 0. ],\n",
        "                                                            std = [ 1/0.5, 1/0.5, 1/0.5 ]),\n",
        "                                        transforms.Normalize(mean = [- 0.5,- 0.5, -0.5 ],\n",
        "                                                            std = [ 1., 1., 1. ]),\n",
        "                                      ])\n",
        "\n",
        "   inv_tensor = invTrans(preds)\n",
        "\n",
        "   ten = inv_tensor.cpu().detach().numpy()\n",
        "   score = []\n",
        "   for i in range(3):\n",
        "          score.append((np.linalg.norm(target_image[:,:,i] - ten[0][i,:,:]))/np.linalg.norm(target_image[:,:,i]))\n",
        "\n",
        "\n",
        " \n",
        "\n",
        "print('Metric is',np.array(score).mean())\n",
        "\n"
      ]
    },
    {
      "cell_type": "markdown",
      "metadata": {
        "id": "7lgLIqusvL58"
      },
      "source": [
        ""
      ]
    }
  ],
  "metadata": {
    "accelerator": "GPU",
    "colab": {
      "collapsed_sections": [],
      "name": "Reconstruction_of_fine_grid_with_GAN_orszag_tang.ipynb",
      "provenance": [],
      "machine_shape": "hm"
    },
    "kernelspec": {
      "display_name": "Python 3",
      "name": "python3"
    },
    "language_info": {
      "name": "python"
    }
  },
  "nbformat": 4,
  "nbformat_minor": 0
}